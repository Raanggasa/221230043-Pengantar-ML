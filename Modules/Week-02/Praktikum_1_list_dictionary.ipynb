{
  "cells": [
    {
      "cell_type": "markdown",
      "metadata": {
        "id": "view-in-github",
        "colab_type": "text"
      },
      "source": [
        "<a href=\"https://colab.research.google.com/github/Raanggasa/221230043-Pengantar-ML/blob/main/Modules/Week-02/Praktikum_1_list_dictionary.ipynb\" target=\"_parent\"><img src=\"https://colab.research.google.com/assets/colab-badge.svg\" alt=\"Open In Colab\"/></a>"
      ]
    },
    {
      "cell_type": "markdown",
      "metadata": {
        "id": "B_-CutPf4i_r"
      },
      "source": [
        "# PRAKTIKUM 1: STRUKTUR DATA LIST DAN DICTIONARY PYTHON\n",
        "\n",
        "## Tujuan Praktikum\n",
        "1. Memahami konsep struktur data list dan dictionary dalam Python\n",
        "2. Mampu melakukan operasi dasar pada list dan dictionary\n",
        "3. Dapat menerapkan list comprehension dan dictionary comprehension\n",
        "4. Memahami penggunaan struktur data yang tepat untuk berbagai skenario\n",
        "\n",
        "## Dasar Teori\n",
        "\n",
        "### List\n",
        "List adalah struktur data yang ordered, mutable, dan dapat menampung elemen dengan tipe data yang berbeda. Karakteristik list:\n",
        "- Ordered: Elemen memiliki posisi/index tertentu\n",
        "- Mutable: Dapat diubah setelah dibuat\n",
        "- Dynamic: Dapat bertambah atau berkurang ukurannya\n",
        "- Heterogeneous: Dapat menampung berbagai tipe data\n",
        "\n",
        "### Dictionary\n",
        "Dictionary adalah struktur data yang unordered, mutable, dan menggunakan key-value pairs. Karakteristik dictionary:\n",
        "- Unordered: Tidak memiliki urutan tertentu (Python 3.7+ menjaga insertion order)\n",
        "- Mutable: Dapat diubah setelah dibuat\n",
        "- Key-Value pairs: Menggunakan key unik untuk mengakses value\n",
        "- Fast lookup: Akses data sangat cepat menggunakan key"
      ]
    },
    {
      "cell_type": "markdown",
      "metadata": {
        "id": "MxKskwUK5fAP"
      },
      "source": [
        "# 🔧 OPERASI FUNDAMENTAL LIST"
      ]
    },
    {
      "cell_type": "markdown",
      "metadata": {
        "id": "t2Zt8acjqQ4_"
      },
      "source": [
        "## 1. ACCESS"
      ]
    },
    {
      "cell_type": "code",
      "execution_count": 21,
      "metadata": {
        "id": "6SK1iNNdqQ5A",
        "outputId": "bc1c4c24-acef-499c-e129-b128f9a6a100",
        "colab": {
          "base_uri": "https://localhost:8080/"
        }
      },
      "outputs": [
        {
          "output_type": "stream",
          "name": "stdout",
          "text": [
            "Access by index:\n",
            "numbers[0]: 10\n",
            "numbers[-1]: 50\n",
            "numbers[1:4]: [20, 30, 40]\n",
            "numbers[::2]: [10, 30, 50]\n"
          ]
        }
      ],
      "source": [
        "numbers = [10, 20, 30, 40, 50]\n",
        "print(\"Access by index:\")\n",
        "print(\"numbers[0]:\", numbers[0])           # First element\n",
        "print(\"numbers[-1]:\", numbers[-1])         # Last element\n",
        "print(\"numbers[1:4]:\", numbers[1:4])       # Slicing\n",
        "print(\"numbers[::2]:\", numbers[::2])       # Step slicing"
      ]
    },
    {
      "cell_type": "markdown",
      "metadata": {
        "id": "Ua_OWuwpqQ5E"
      },
      "source": [
        "# 2. ADD ELEMENTS"
      ]
    },
    {
      "cell_type": "code",
      "execution_count": 22,
      "metadata": {
        "id": "pyREOEUzqQ5F",
        "outputId": "a2c34e51-cd7b-4b61-c1a6-c9bb0b95b8b2",
        "colab": {
          "base_uri": "https://localhost:8080/"
        }
      },
      "outputs": [
        {
          "output_type": "stream",
          "name": "stdout",
          "text": [
            "After append(60): [10, 20, 30, 40, 50, 60]\n",
            "After insert(2, 25): [10, 20, 25, 30, 40, 50, 60]\n",
            "After extend: [10, 20, 25, 30, 40, 50, 60, 70, 80, 90]\n"
          ]
        }
      ],
      "source": [
        "numbers.append(60)                         # Add to end\n",
        "print(\"After append(60):\", numbers)\n",
        "\n",
        "numbers.insert(2, 25)                      # Insert at index\n",
        "print(\"After insert(2, 25):\", numbers)\n",
        "\n",
        "numbers.extend([70, 80, 90])               # Extend with another list\n",
        "print(\"After extend:\", numbers)"
      ]
    },
    {
      "cell_type": "markdown",
      "metadata": {
        "id": "IwP0JL6JqQ5G"
      },
      "source": [
        "# 3. REMOVE ELEMENTS"
      ]
    },
    {
      "cell_type": "code",
      "execution_count": 23,
      "metadata": {
        "id": "gn6RD0m9qQ5H",
        "outputId": "10b3a4e9-ea93-4bc3-88c4-5dc921912c8c",
        "colab": {
          "base_uri": "https://localhost:8080/"
        }
      },
      "outputs": [
        {
          "output_type": "stream",
          "name": "stdout",
          "text": [
            "After pop(3): [10, 20, 25, 40, 50, 60, 70, 80, 90], removed: 30\n",
            "After remove(25): [10, 20, 40, 50, 60, 70, 80, 90]\n",
            "After del [0:2]: [40, 50, 60, 70, 80, 90]\n"
          ]
        }
      ],
      "source": [
        "removed = numbers.pop(3)                   # Remove by index\n",
        "print(f\"After pop(3): {numbers}, removed: {removed}\")\n",
        "\n",
        "numbers.remove(25)                         # Remove by value\n",
        "print(\"After remove(25):\", numbers)\n",
        "\n",
        "del numbers[0:2]                           # Delete slice\n",
        "print(\"After del [0:2]:\", numbers)"
      ]
    },
    {
      "cell_type": "markdown",
      "metadata": {
        "id": "6jctGCocqQ5J"
      },
      "source": [
        "# 4. LOOPING"
      ]
    },
    {
      "cell_type": "code",
      "execution_count": 24,
      "metadata": {
        "id": "S4AYyGWgqQ5K",
        "outputId": "ec571ad0-94a1-46a9-fd3b-6ce811cf27c2",
        "colab": {
          "base_uri": "https://localhost:8080/"
        }
      },
      "outputs": [
        {
          "output_type": "stream",
          "name": "stdout",
          "text": [
            "\n",
            "Looping techniques:\n",
            "For loop:\n",
            "Index 0: 40\n",
            "Index 1: 50\n",
            "Index 2: 60\n",
            "Index 3: 70\n",
            "Index 4: 80\n",
            "Index 5: 90\n",
            "List comprehension:\n",
            "Squares of numbers > 30: [1600, 2500, 3600, 4900, 6400, 8100]\n"
          ]
        }
      ],
      "source": [
        "print(\"\\nLooping techniques:\")\n",
        "print(\"For loop:\")\n",
        "for i, num in enumerate(numbers):\n",
        "    print(f\"Index {i}: {num}\")\n",
        "\n",
        "print(\"List comprehension:\")\n",
        "squares = [x**2 for x in numbers if x > 30]\n",
        "print(\"Squares of numbers > 30:\", squares)"
      ]
    },
    {
      "cell_type": "markdown",
      "metadata": {
        "id": "1jVuTIyFqQ5K"
      },
      "source": [
        "# 5. SORTING"
      ]
    },
    {
      "cell_type": "code",
      "execution_count": 25,
      "metadata": {
        "id": "26UmHa0DqQ5L",
        "outputId": "2d3d4f5e-e738-4e75-f3ec-480885babe26",
        "colab": {
          "base_uri": "https://localhost:8080/"
        }
      },
      "outputs": [
        {
          "output_type": "stream",
          "name": "stdout",
          "text": [
            "Sorted ascending: [1, 1, 2, 3, 4, 5, 6, 9]\n",
            "Sorted descending: [9, 6, 5, 4, 3, 2, 1, 1]\n"
          ]
        }
      ],
      "source": [
        "random_nums = [3, 1, 4, 1, 5, 9, 2, 6]\n",
        "random_nums.sort()                         # In-place sort\n",
        "print(\"Sorted ascending:\", random_nums)\n",
        "\n",
        "random_nums.sort(reverse=True)             # Descending sort\n",
        "print(\"Sorted descending:\", random_nums)"
      ]
    },
    {
      "cell_type": "markdown",
      "metadata": {
        "id": "z2PyI26UqQ5M"
      },
      "source": [
        "# 6. COPYING"
      ]
    },
    {
      "cell_type": "code",
      "execution_count": 26,
      "metadata": {
        "id": "qiHE7eCJqQ5M",
        "outputId": "516a041b-2d56-469e-cb82-976dd828a638",
        "colab": {
          "base_uri": "https://localhost:8080/"
        }
      },
      "outputs": [
        {
          "output_type": "stream",
          "name": "stdout",
          "text": [
            "Original: [1, 2, 3], Copy: [1, 2, 3]\n"
          ]
        }
      ],
      "source": [
        "original = [1, 2, 3]\n",
        "copy_ori = original\n",
        "shallow_copy = original.copy()             # Shallow copy\n",
        "deep_copy = original[:]                    # Another way to copy\n",
        "print(f\"Original: {original}, Copy: {shallow_copy}\")"
      ]
    },
    {
      "cell_type": "code",
      "execution_count": 27,
      "metadata": {
        "id": "O1Tyjs3vqQ5N",
        "outputId": "35b7b990-ee5f-42d9-f179-1eabb496cd3f",
        "colab": {
          "base_uri": "https://localhost:8080/"
        }
      },
      "outputs": [
        {
          "output_type": "stream",
          "name": "stdout",
          "text": [
            "[1, 2, 3, 2]\n",
            "[1, 2, 3]\n"
          ]
        }
      ],
      "source": [
        "original.append(2)\n",
        "print(copy_ori)\n",
        "print(shallow_copy)\n"
      ]
    },
    {
      "cell_type": "markdown",
      "metadata": {
        "id": "jysvA7CvqQ5O"
      },
      "source": [
        "# 7. AGGREGATION"
      ]
    },
    {
      "cell_type": "code",
      "execution_count": 28,
      "metadata": {
        "id": "MIyezlmmqQ5O",
        "outputId": "24dddb66-050c-4a13-b765-91a6995b9b5c",
        "colab": {
          "base_uri": "https://localhost:8080/"
        }
      },
      "outputs": [
        {
          "output_type": "stream",
          "name": "stdout",
          "text": [
            "Length: 5\n",
            "Min: 10, Max: 50\n",
            "Sum: 150\n",
            "Mean: 30.00\n"
          ]
        }
      ],
      "source": [
        "data = [10, 20, 30, 40, 50]\n",
        "print(f\"Length: {len(data)}\")\n",
        "print(f\"Min: {min(data)}, Max: {max(data)}\")\n",
        "print(f\"Sum: {sum(data)}\")\n",
        "print(f\"Mean: {sum(data)/len(data):.2f}\")"
      ]
    },
    {
      "cell_type": "markdown",
      "metadata": {
        "id": "kqmHbfYrqQ5O"
      },
      "source": [
        "# 8. JOINING"
      ]
    },
    {
      "cell_type": "code",
      "execution_count": 29,
      "metadata": {
        "id": "-GbT08lHqQ5P",
        "outputId": "05c5805d-173a-478d-aca2-1cd4afa03ad7",
        "colab": {
          "base_uri": "https://localhost:8080/"
        }
      },
      "outputs": [
        {
          "output_type": "stream",
          "name": "stdout",
          "text": [
            "Combined lists: [1, 2, 3, 4, 5, 6]\n"
          ]
        }
      ],
      "source": [
        "list1 = [1, 2, 3]\n",
        "list2 = [4, 5, 6]\n",
        "combined = list1 + list2                   # Concatenation\n",
        "print(\"Combined lists:\", combined)"
      ]
    },
    {
      "cell_type": "markdown",
      "metadata": {
        "id": "fc-MqwrNqQ5Q"
      },
      "source": [
        "# 9. TYPE CHECKING"
      ]
    },
    {
      "cell_type": "code",
      "execution_count": 30,
      "metadata": {
        "colab": {
          "base_uri": "https://localhost:8080/"
        },
        "id": "wvb3Pbme4bjD",
        "outputId": "751d8510-b8f1-4906-d547-7f197a61bb06"
      },
      "outputs": [
        {
          "output_type": "stream",
          "name": "stdout",
          "text": [
            "Type checking:\n",
            "1 is <class 'int'>\n",
            "hello is <class 'str'>\n",
            "3.14 is <class 'float'>\n",
            "True is <class 'bool'>\n"
          ]
        }
      ],
      "source": [
        "mixed_list = [1, \"hello\", 3.14, True]\n",
        "print(\"Type checking:\")\n",
        "for item in mixed_list:\n",
        "    print(f\"{item} is {type(item)}\")"
      ]
    },
    {
      "cell_type": "markdown",
      "metadata": {
        "id": "fNyWBtSv5nOB"
      },
      "source": [
        "# 🔧 OPERASI FUNDAMENTAL DICTIONARY"
      ]
    },
    {
      "cell_type": "markdown",
      "metadata": {
        "id": "Aw0AT1VoqQ5S"
      },
      "source": [
        "# 1. CREATE & ACCESS"
      ]
    },
    {
      "cell_type": "code",
      "execution_count": 31,
      "metadata": {
        "id": "9Kh-KGKOqQ5T",
        "outputId": "ae3c583e-0785-4ab5-af1a-85be164eec83",
        "colab": {
          "base_uri": "https://localhost:8080/"
        }
      },
      "outputs": [
        {
          "output_type": "stream",
          "name": "stdout",
          "text": [
            "Access operations:\n",
            "student['name']: Alice\n",
            "student.get('age'): 20\n",
            "student.get('address', 'Not found'): Not found\n"
          ]
        }
      ],
      "source": [
        "student = {\n",
        "    'name': 'Alice',\n",
        "    'age': 20,\n",
        "    'grades': [85, 90, 78],\n",
        "    'courses': {'math': 'A', 'physics': 'B'}\n",
        "}\n",
        "\n",
        "print(\"Access operations:\")\n",
        "print(\"student['name']:\", student['name'])\n",
        "print(\"student.get('age'):\", student.get('age'))\n",
        "print(\"student.get('address', 'Not found'):\", student.get('address', 'Not found'))"
      ]
    },
    {
      "cell_type": "markdown",
      "metadata": {
        "id": "Eoh5OMJsqQ5U"
      },
      "source": [
        "# 2. ADD & UPDATE"
      ]
    },
    {
      "cell_type": "code",
      "execution_count": 32,
      "metadata": {
        "id": "yJGqgFPCqQ5U",
        "outputId": "b5de0448-3e4a-4b76-eb66-d7391b08241a",
        "colab": {
          "base_uri": "https://localhost:8080/"
        }
      },
      "outputs": [
        {
          "output_type": "stream",
          "name": "stdout",
          "text": [
            "After adding major: {'name': 'Alice', 'age': 20, 'grades': [85, 90, 78], 'courses': {'math': 'A', 'physics': 'B'}, 'major': 'Computer Science'}\n",
            "After update: {'name': 'Alice', 'age': 21, 'grades': [85, 90, 78], 'courses': {'math': 'A', 'physics': 'B'}, 'major': 'Computer Science', 'year': 2}\n"
          ]
        }
      ],
      "source": [
        "student['major'] = 'Computer Science'      # Add new key\n",
        "print(\"After adding major:\", student)\n",
        "\n",
        "student.update({'age': 21, 'year': 2})     # Update multiple\n",
        "print(\"After update:\", student)"
      ]
    },
    {
      "cell_type": "markdown",
      "metadata": {
        "id": "OA6KkktHqQ5V"
      },
      "source": [
        "# 3. REMOVE"
      ]
    },
    {
      "cell_type": "code",
      "execution_count": 33,
      "metadata": {
        "id": "L06v5ayyqQ5W",
        "outputId": "dcdee143-ae54-4238-d396-ae84ca0162bb",
        "colab": {
          "base_uri": "https://localhost:8080/"
        }
      },
      "outputs": [
        {
          "output_type": "stream",
          "name": "stdout",
          "text": [
            "Removed grades: [85, 90, 78]\n",
            "After del courses: {'name': 'Alice', 'age': 21, 'major': 'Computer Science', 'year': 2}\n"
          ]
        }
      ],
      "source": [
        "removed_grade = student.pop('grades')      # Remove and return\n",
        "print(f\"Removed grades: {removed_grade}\")\n",
        "\n",
        "del student['courses']                     # Delete key\n",
        "print(\"After del courses:\", student)\n"
      ]
    },
    {
      "cell_type": "markdown",
      "metadata": {
        "id": "uUi0txPbqQ5W"
      },
      "source": [
        "# 4. LOOPING"
      ]
    },
    {
      "cell_type": "code",
      "execution_count": 34,
      "metadata": {
        "id": "WUKdRJ9vqQ5X",
        "outputId": "7c7a9151-1ac1-4e48-8daa-6bba4c280358",
        "colab": {
          "base_uri": "https://localhost:8080/"
        }
      },
      "outputs": [
        {
          "output_type": "stream",
          "name": "stdout",
          "text": [
            "\n",
            "Dictionary looping:\n",
            "Keys: ['name', 'age', 'major', 'year']\n",
            "Values: ['Alice', 21, 'Computer Science', 2]\n",
            "Items: [('name', 'Alice'), ('age', 21), ('major', 'Computer Science'), ('year', 2)]\n",
            "Loop through items:\n",
            "name: Alice\n",
            "age: 21\n",
            "major: Computer Science\n",
            "year: 2\n"
          ]
        }
      ],
      "source": [
        "print(\"\\nDictionary looping:\")\n",
        "print(\"Keys:\", list(student.keys()))\n",
        "print(\"Values:\", list(student.values()))\n",
        "print(\"Items:\", list(student.items()))\n",
        "\n",
        "print(\"Loop through items:\")\n",
        "for key, value in student.items():\n",
        "    print(f\"{key}: {value}\")"
      ]
    },
    {
      "cell_type": "markdown",
      "metadata": {
        "id": "BXJbysGRqQ5X"
      },
      "source": [
        "# 5. COPYING"
      ]
    },
    {
      "cell_type": "code",
      "execution_count": 35,
      "metadata": {
        "id": "T04h40HeqQ5Y",
        "outputId": "22244515-68a9-4ed6-9c01-fc3e7e8a7d9a",
        "colab": {
          "base_uri": "https://localhost:8080/"
        }
      },
      "outputs": [
        {
          "output_type": "stream",
          "name": "stdout",
          "text": [
            "Original: {'name': 'Alice', 'age': 21, 'major': 'Computer Science', 'year': 2}\n",
            "Copy: {'name': 'Alice', 'age': 21, 'major': 'Computer Science', 'year': 2}\n"
          ]
        }
      ],
      "source": [
        "student_copy = student.copy()              # Shallow copy\n",
        "print(\"Original:\", student)\n",
        "print(\"Copy:\", student_copy)"
      ]
    },
    {
      "cell_type": "markdown",
      "metadata": {
        "id": "ZJuuw-ZVqQ5Z"
      },
      "source": [
        "# 6. COMPREHENSION"
      ]
    },
    {
      "cell_type": "code",
      "execution_count": 36,
      "metadata": {
        "id": "pSPF0dfcqQ5Z",
        "outputId": "29bfeb0f-81cf-47af-81c1-17c8e7527d41",
        "colab": {
          "base_uri": "https://localhost:8080/"
        }
      },
      "outputs": [
        {
          "output_type": "stream",
          "name": "stdout",
          "text": [
            "Dictionary comprehension: {1: 1, 2: 4, 3: 9, 4: 16, 5: 25}\n"
          ]
        }
      ],
      "source": [
        "numbers = [1, 2, 3, 4, 5]\n",
        "squares_dict = {x: x**2 for x in numbers}\n",
        "print(\"Dictionary comprehension:\", squares_dict)\n"
      ]
    },
    {
      "cell_type": "markdown",
      "metadata": {
        "id": "6dlIEODaqQ5b"
      },
      "source": [
        "# 7. AGGREGATION"
      ]
    },
    {
      "cell_type": "code",
      "execution_count": 37,
      "metadata": {
        "id": "ZEDOvwisqQ5b",
        "outputId": "da865c4a-0dad-4238-8c40-da52e2aef3ed",
        "colab": {
          "base_uri": "https://localhost:8080/"
        }
      },
      "outputs": [
        {
          "output_type": "stream",
          "name": "stdout",
          "text": [
            "Number of subjects: 3\n",
            "Highest grade: 92\n",
            "Lowest grade: 78\n",
            "Average grade: 85.00\n"
          ]
        }
      ],
      "source": [
        "grades_dict = {'math': 85, 'physics': 92, 'chemistry': 78}\n",
        "print(f\"Number of subjects: {len(grades_dict)}\")\n",
        "print(f\"Highest grade: {max(grades_dict.values())}\")\n",
        "print(f\"Lowest grade: {min(grades_dict.values())}\")\n",
        "print(f\"Average grade: {sum(grades_dict.values())/len(grades_dict):.2f}\")"
      ]
    },
    {
      "cell_type": "markdown",
      "metadata": {
        "id": "e52OhWFSqQ5c"
      },
      "source": [
        "# 8. MERGING DICTIONARIES"
      ]
    },
    {
      "cell_type": "code",
      "execution_count": 38,
      "metadata": {
        "id": "xb32_qDSqQ5c",
        "outputId": "6f7c775a-1db4-4264-be30-22e4c7c7a19f",
        "colab": {
          "base_uri": "https://localhost:8080/"
        }
      },
      "outputs": [
        {
          "output_type": "stream",
          "name": "stdout",
          "text": [
            "Merged dictionaries: {'a': 1, 'b': 3, 'c': 4}\n"
          ]
        }
      ],
      "source": [
        "dict1 = {'a': 1, 'b': 2}\n",
        "dict2 = {'b': 3, 'c': 4}\n",
        "merged = {**dict1, **dict2}                # Merge (dict2 overwrites)\n",
        "print(\"Merged dictionaries:\", merged)"
      ]
    },
    {
      "cell_type": "markdown",
      "metadata": {
        "id": "umrQdv_XqQ5d"
      },
      "source": [
        "# 9. NESTED DICTIONARY OPERATIONS"
      ]
    },
    {
      "cell_type": "code",
      "execution_count": 39,
      "metadata": {
        "colab": {
          "base_uri": "https://localhost:8080/"
        },
        "id": "-20M7z6q45Q8",
        "outputId": "196642fd-7707-4794-b810-87b352a84b9f"
      },
      "outputs": [
        {
          "output_type": "stream",
          "name": "stdout",
          "text": [
            "Alice's age: 20\n",
            "Updated Alice's grade: {'age': 20, 'grade': 'A+'}\n"
          ]
        }
      ],
      "source": [
        "school_data = {\n",
        "    'students': {\n",
        "        'Alice': {'age': 20, 'grade': 'A'},\n",
        "        'Bob': {'age': 21, 'grade': 'B'}\n",
        "    }\n",
        "}\n",
        "\n",
        "# Access nested data\n",
        "print(\"Alice's age:\", school_data['students']['Alice']['age'])\n",
        "\n",
        "# Modify nested data\n",
        "school_data['students']['Alice']['grade'] = 'A+'\n",
        "print(\"Updated Alice's grade:\", school_data['students']['Alice'])"
      ]
    },
    {
      "cell_type": "markdown",
      "metadata": {
        "id": "OsbDxW685XML"
      },
      "source": [
        "**LATIHAN**"
      ]
    },
    {
      "cell_type": "code",
      "execution_count": 41,
      "metadata": {
        "colab": {
          "base_uri": "https://localhost:8080/"
        },
        "id": "JxtKyaYK5aS4",
        "outputId": "51317c48-fdac-4ca7-82fa-3385b6f030ce"
      },
      "outputs": [
        {
          "output_type": "stream",
          "name": "stdout",
          "text": [
            "### HASIL OPERASI LIST ###\n",
            "Data Mentah    : [23.5, 24.1, 22.8, 25.3, 21.9, 26.7, 20.5, 24.8, 23.2, 25.9]\n",
            "Data Terfilter : [23.5, 24.1, 22.8, 24.8, 23.2]\n",
            "Data Ternormalisasi : [0.48, 0.58, 0.37, 0.77, 0.23, 1.0, 0.0, 0.69, 0.44, 0.87]\n",
            "Moving Average (w=3): [23.47, 24.07, 23.33, 24.63, 23.03, 24.0, 22.83, 24.63]\n",
            "✅ List operations completed\n",
            "------------------------------\n",
            "### HASIL OPERASI DICTIONARY ###\n",
            "Data Dikelompokkan: {'class_A': [[1.2, 3.4, 2.1], [3.1, 2.8, 1.9]], 'class_B': [[2.3, 1.5, 4.2], [4.2, 3.9, 2.5]]}\n",
            "Rata-rata Fitur per Kelas: {'class_A': [2.15, 3.0999999999999996, 2.0], 'class_B': [3.25, 2.7, 3.35]}\n",
            "✅ Dictionary operations completed\n"
          ]
        }
      ],
      "source": [
        "# 🏋️ LATIHAN 1: OPERASI LIST DAN DICTIONARY\n",
        "\n",
        "### OPERASI LIST ###\n",
        "\n",
        "### OPERASI LIST ###\n",
        "\n",
        "'''TODO: Manipulasi Data List untuk Preprocessing'''\n",
        "# Data mentah dari sensor\n",
        "raw_data = [23.5, 24.1, 22.8, 25.3, 21.9, 26.7, 20.5, 24.8, 23.2, 25.9]\n",
        "\n",
        "# TODO 1: Filter data yang berada di range 22-25 derajat\n",
        "# Menggunakan list comprehension untuk memfilter data yang memenuhi kondisi\n",
        "filtered_data = [temp for temp in raw_data if 22 <= temp <= 25]\n",
        "\n",
        "# TODO 2: Normalisasi data ke range 0-1 menggunakan min-max scaling\n",
        "min_val = min(raw_data)\n",
        "max_val = max(raw_data)\n",
        "# Menerapkan rumus normalisasi: (x - min) / (max - min)\n",
        "normalized_data = [(x - min_val) / (max_val - min_val) for x in raw_data]\n",
        "\n",
        "# TODO 3: Hitung moving average dengan window size 3\n",
        "def moving_average(data, window_size):\n",
        "    \"\"\"Menghitung rata-rata bergerak dari sebuah list.\"\"\"\n",
        "    averages = []\n",
        "    # Loop sebanyak data bisa membentuk satu window penuh\n",
        "    for i in range(len(data) - window_size + 1):\n",
        "        # Ambil data sebesar window\n",
        "        window = data[i:i + window_size]\n",
        "        # Hitung rata-rata window dan tambahkan ke hasil\n",
        "        window_average = sum(window) / window_size\n",
        "        averages.append(window_average)\n",
        "    return averages\n",
        "\n",
        "ma_result = moving_average(raw_data, 3)\n",
        "\n",
        "# --- Verifikasi dan Tampilkan Hasil List ---\n",
        "print(\"### HASIL OPERASI LIST ###\")\n",
        "print(f\"Data Mentah    : {raw_data}\")\n",
        "print(f\"Data Terfilter : {filtered_data}\")\n",
        "print(f\"Data Ternormalisasi : {[round(x, 2) for x in normalized_data]}\")\n",
        "print(f\"Moving Average (w=3): {[round(x, 2) for x in ma_result]}\")\n",
        "assert len(filtered_data) <= len(raw_data), \"Filtered data should not be longer\"\n",
        "assert all(0 <= x <= 1 for x in normalized_data), \"Normalized data should be 0-1\"\n",
        "print(\"✅ List operations completed\")\n",
        "print(\"-\" * 30)\n",
        "\n",
        "\n",
        "### OPERASI DICTIONARY ###\n",
        "\n",
        "'''TODO: Processing Dataset untuk Machine Learning'''\n",
        "# Dataset sample untuk klasifikasi\n",
        "dataset = [\n",
        "    {'features': [1.2, 3.4, 2.1], 'label': 'class_A'},\n",
        "    {'features': [2.3, 1.5, 4.2], 'label': 'class_B'},\n",
        "    {'features': [3.1, 2.8, 1.9], 'label': 'class_A'},\n",
        "    {'features': [4.2, 3.9, 2.5], 'label': 'class_B'}\n",
        "]\n",
        "\n",
        "# TODO 4: Kelompokkan data berdasarkan label\n",
        "def group_by_label(data):\n",
        "    \"\"\"Mengelompokkan list of features berdasarkan labelnya.\"\"\"\n",
        "    grouped = {}\n",
        "    for item in data:\n",
        "        label = item['label']\n",
        "        features = item['features']\n",
        "        # Jika label belum ada di dictionary, buat key baru\n",
        "        if label not in grouped:\n",
        "            grouped[label] = []\n",
        "        # Tambahkan features ke list yang sesuai dengan labelnya\n",
        "        grouped[label].append(features)\n",
        "    return grouped\n",
        "\n",
        "grouped_data = group_by_label(dataset)\n",
        "\n",
        "# TODO 5: Hitung rata-rata features per kelas\n",
        "def average_features_per_class(grouped_data):\n",
        "    \"\"\"Menghitung rata-rata setiap kolom feature untuk setiap kelas.\"\"\"\n",
        "    avg_dict = {}\n",
        "    for label, features_list in grouped_data.items():\n",
        "        # Transpose list of lists untuk mengelompokkan feature per kolom\n",
        "        # contoh: [[1, 2], [3, 4]] menjadi [(1, 3), (2, 4)]\n",
        "        transposed_features = zip(*features_list)\n",
        "        # Hitung rata-rata untuk setiap kolom feature\n",
        "        avg_features_for_label = [sum(feature_col) / len(features_list) for feature_col in transposed_features]\n",
        "        avg_dict[label] = avg_features_for_label\n",
        "    return avg_dict\n",
        "\n",
        "avg_features = average_features_per_class(grouped_data)\n",
        "\n",
        "# --- Verifikasi dan Tampilkan Hasil Dictionary ---\n",
        "print(\"### HASIL OPERASI DICTIONARY ###\")\n",
        "print(f\"Data Dikelompokkan: {grouped_data}\")\n",
        "print(f\"Rata-rata Fitur per Kelas: {avg_features}\")\n",
        "assert 'class_A' in grouped_data, \"Should contain class_A\"\n",
        "assert 'class_B' in grouped_data, \"Should contain class_B\"\n",
        "print(\"✅ Dictionary operations completed\")"
      ]
    }
  ],
  "metadata": {
    "colab": {
      "provenance": [],
      "include_colab_link": true
    },
    "kernelspec": {
      "display_name": "base",
      "language": "python",
      "name": "python3"
    },
    "language_info": {
      "codemirror_mode": {
        "name": "ipython",
        "version": 3
      },
      "file_extension": ".py",
      "mimetype": "text/x-python",
      "name": "python",
      "nbconvert_exporter": "python",
      "pygments_lexer": "ipython3",
      "version": "3.11.5"
    }
  },
  "nbformat": 4,
  "nbformat_minor": 0
}