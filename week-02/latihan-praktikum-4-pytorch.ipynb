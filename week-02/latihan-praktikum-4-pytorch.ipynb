{
  "cells": [
    {
      "cell_type": "markdown",
      "metadata": {
        "id": "view-in-github",
        "colab_type": "text"
      },
      "source": [
        "<a href=\"https://colab.research.google.com/github/Raanggasa/221230043-Pengantar-ML/blob/main/week-02/latihan-praktikum-4-pytorch.ipynb\" target=\"_parent\"><img src=\"https://colab.research.google.com/assets/colab-badge.svg\" alt=\"Open In Colab\"/></a>"
      ]
    },
    {
      "cell_type": "code",
      "execution_count": 74,
      "id": "252f9628",
      "metadata": {
        "id": "252f9628"
      },
      "outputs": [],
      "source": [
        "#!pip install torch torchvision torchaudio"
      ]
    },
    {
      "cell_type": "code",
      "execution_count": 75,
      "id": "450749ec",
      "metadata": {
        "id": "450749ec"
      },
      "outputs": [],
      "source": [
        "import torch\n",
        "import numpy as np"
      ]
    },
    {
      "cell_type": "code",
      "execution_count": 76,
      "id": "c16a5029",
      "metadata": {
        "id": "c16a5029",
        "outputId": "d4a4debd-3ff9-42c8-b0f5-dec9d0338b12",
        "colab": {
          "base_uri": "https://localhost:8080/"
        }
      },
      "outputs": [
        {
          "output_type": "stream",
          "name": "stdout",
          "text": [
            "2.8.0+cu126\n",
            "CUDA available: False\n"
          ]
        }
      ],
      "source": [
        "import torch\n",
        "print(torch.__version__)\n",
        "print(\"CUDA available:\", torch.cuda.is_available())"
      ]
    },
    {
      "cell_type": "markdown",
      "id": "59d9085c",
      "metadata": {
        "id": "59d9085c"
      },
      "source": [
        "# 1. TENSOR CREATION & TYPES"
      ]
    },
    {
      "cell_type": "code",
      "execution_count": 77,
      "id": "23f7e58b",
      "metadata": {
        "id": "23f7e58b",
        "outputId": "b22dd2ea-9796-49fd-c9e6-f590846fc591",
        "colab": {
          "base_uri": "https://localhost:8080/"
        }
      },
      "outputs": [
        {
          "output_type": "stream",
          "name": "stdout",
          "text": [
            "=== TENSOR CREATION ===\n",
            "Zeros tensor:\n",
            " tensor([[0., 0., 0.],\n",
            "        [0., 0., 0.]])\n",
            "Random tensor:\n",
            " tensor([[0.9142, 0.0409, 0.8343],\n",
            "        [0.1474, 0.6872, 0.9231]])\n",
            "Arange tensor: tensor([0, 2, 4, 6, 8])\n"
          ]
        }
      ],
      "source": [
        "print(\"=== TENSOR CREATION ===\")\n",
        "# Various creation methods\n",
        "tensor_zeros = torch.zeros(2, 3)                    # Zeros tensor\n",
        "tensor_ones = torch.ones(2, 3)                      # Ones tensor\n",
        "tensor_rand = torch.rand(2, 3)                      # Random [0,1)\n",
        "tensor_randn = torch.randn(2, 3)                    # Normal distribution\n",
        "tensor_arange = torch.arange(0, 10, 2)              # Like range()\n",
        "\n",
        "print(\"Zeros tensor:\\n\", tensor_zeros)\n",
        "print(\"Random tensor:\\n\", tensor_rand)\n",
        "print(\"Arange tensor:\", tensor_arange)"
      ]
    },
    {
      "cell_type": "markdown",
      "id": "323fa6d4",
      "metadata": {
        "id": "323fa6d4"
      },
      "source": [
        "# 2. DATA TYPES & SHAPE"
      ]
    },
    {
      "cell_type": "code",
      "execution_count": 78,
      "id": "c58aa0d2",
      "metadata": {
        "id": "c58aa0d2",
        "outputId": "ea894ea6-6fa1-4081-d32b-53b8b92354e4",
        "colab": {
          "base_uri": "https://localhost:8080/"
        }
      },
      "outputs": [
        {
          "output_type": "stream",
          "name": "stdout",
          "text": [
            "\n",
            "=== DATA TYPES & SHAPE ===\n",
            "Integer tensor dtype: torch.int32\n",
            "Float tensor dtype: torch.float32\n",
            "Tensor shape: torch.Size([3])\n",
            "Tensor size: torch.Size([3])\n",
            "Number of elements: 3\n"
          ]
        }
      ],
      "source": [
        "print(\"\\n=== DATA TYPES & SHAPE ===\")\n",
        "tensor_int = torch.tensor([1, 2, 3], dtype=torch.int32)\n",
        "tensor_float = torch.tensor([1.0, 2.0, 3.0], dtype=torch.float32)\n",
        "\n",
        "print(\"Integer tensor dtype:\", tensor_int.dtype)\n",
        "print(\"Float tensor dtype:\", tensor_float.dtype)\n",
        "print(\"Tensor shape:\", tensor_float.shape)\n",
        "print(\"Tensor size:\", tensor_float.size())\n",
        "print(\"Number of elements:\", tensor_float.numel())"
      ]
    },
    {
      "cell_type": "markdown",
      "id": "e54d872a",
      "metadata": {
        "id": "e54d872a"
      },
      "source": [
        "# 3. ACCESS & SLICING"
      ]
    },
    {
      "cell_type": "code",
      "execution_count": 79,
      "id": "38400ba4",
      "metadata": {
        "id": "38400ba4",
        "outputId": "2e63bb1b-12c3-42cd-f1bb-6c3632b45fba",
        "colab": {
          "base_uri": "https://localhost:8080/"
        }
      },
      "outputs": [
        {
          "output_type": "stream",
          "name": "stdout",
          "text": [
            "\n",
            "=== ACCESS & SLICING ===\n",
            "Original tensor:\n",
            " tensor([[1, 2, 3],\n",
            "        [4, 5, 6],\n",
            "        [7, 8, 9]])\n",
            "Element [1,2]: tensor(6)\n",
            "First row: tensor([1, 2, 3])\n",
            "Last column: tensor([3, 6, 9])\n",
            "Submatrix:\n",
            " tensor([[2, 3],\n",
            "        [5, 6]])\n"
          ]
        }
      ],
      "source": [
        "print(\"\\n=== ACCESS & SLICING ===\")\n",
        "tensor_2d = torch.tensor([[1, 2, 3], [4, 5, 6], [7, 8, 9]])\n",
        "print(\"Original tensor:\\n\", tensor_2d)\n",
        "print(\"Element [1,2]:\", tensor_2d[1, 2])\n",
        "print(\"First row:\", tensor_2d[0, :])\n",
        "print(\"Last column:\", tensor_2d[:, -1])\n",
        "print(\"Submatrix:\\n\", tensor_2d[0:2, 1:3])"
      ]
    },
    {
      "cell_type": "markdown",
      "id": "ed427bea",
      "metadata": {
        "id": "ed427bea"
      },
      "source": [
        "# 4. RESHAPING"
      ]
    },
    {
      "cell_type": "code",
      "execution_count": 80,
      "id": "35df00a4",
      "metadata": {
        "id": "35df00a4",
        "outputId": "7466d93f-b666-4ffc-d686-bd45521e99e2",
        "colab": {
          "base_uri": "https://localhost:8080/"
        }
      },
      "outputs": [
        {
          "output_type": "stream",
          "name": "stdout",
          "text": [
            "\n",
            "=== RESHAPING ===\n",
            "Original shape: torch.Size([12])\n",
            "Reshaped 3x4:\n",
            " tensor([[ 0,  1,  2,  3],\n",
            "        [ 4,  5,  6,  7],\n",
            "        [ 8,  9, 10, 11]])\n",
            "Transposed 4x3:\n",
            " tensor([[ 0,  4,  8],\n",
            "        [ 1,  5,  9],\n",
            "        [ 2,  6, 10],\n",
            "        [ 3,  7, 11]])\n",
            "Flattened: tensor([ 0,  1,  2,  3,  4,  5,  6,  7,  8,  9, 10, 11])\n"
          ]
        }
      ],
      "source": [
        "print(\"\\n=== RESHAPING ===\")\n",
        "tensor_1d = torch.arange(12)\n",
        "print(\"Original shape:\", tensor_1d.shape)\n",
        "\n",
        "reshaped = tensor_1d.reshape(3, 4)                  # Reshape\n",
        "viewed = tensor_1d.view(3, 4)                       # View (shares memory)\n",
        "transposed = reshaped.T                             # Transpose\n",
        "flattened = reshaped.flatten()                      # Flatten\n",
        "\n",
        "print(\"Reshaped 3x4:\\n\", reshaped)\n",
        "print(\"Transposed 4x3:\\n\", transposed)\n",
        "print(\"Flattened:\", flattened)"
      ]
    },
    {
      "cell_type": "markdown",
      "id": "c7f24385",
      "metadata": {
        "id": "c7f24385"
      },
      "source": [
        "# 5. MATHEMATICAL OPERATIONS"
      ]
    },
    {
      "cell_type": "code",
      "execution_count": 81,
      "id": "8b41deab",
      "metadata": {
        "id": "8b41deab",
        "outputId": "40ec35a6-20ce-427a-8380-d097736c5342",
        "colab": {
          "base_uri": "https://localhost:8080/"
        }
      },
      "outputs": [
        {
          "output_type": "stream",
          "name": "stdout",
          "text": [
            "\n",
            "=== MATHEMATICAL OPERATIONS ===\n",
            "a + b = tensor([5., 7., 9.])\n",
            "a * b = tensor([ 4., 10., 18.])\n",
            "a ** 2 = tensor([1., 4., 9.])\n",
            "torch.matmul: tensor(32.)\n",
            "torch.sum(a) = tensor(6.)\n"
          ]
        }
      ],
      "source": [
        "print(\"\\n=== MATHEMATICAL OPERATIONS ===\")\n",
        "a = torch.tensor([1.0, 2.0, 3.0])\n",
        "b = torch.tensor([4.0, 5.0, 6.0])\n",
        "\n",
        "print(\"a + b =\", a + b)                             # Element-wise\n",
        "print(\"a * b =\", a * b)\n",
        "print(\"a ** 2 =\", a ** 2)\n",
        "print(\"torch.matmul:\", torch.matmul(a, b))          # Dot product\n",
        "print(\"torch.sum(a) =\", torch.sum(a))               # Reduction"
      ]
    },
    {
      "cell_type": "markdown",
      "id": "24d91679",
      "metadata": {
        "id": "24d91679"
      },
      "source": [
        "# 6. AGGREGATION"
      ]
    },
    {
      "cell_type": "code",
      "execution_count": 82,
      "id": "fbed82c8",
      "metadata": {
        "id": "fbed82c8",
        "outputId": "b4619d85-f4d6-4666-8239-a38a9e4d7796",
        "colab": {
          "base_uri": "https://localhost:8080/"
        }
      },
      "outputs": [
        {
          "output_type": "stream",
          "name": "stdout",
          "text": [
            "\n",
            "=== AGGREGATION ===\n",
            "Data tensor:\n",
            " tensor([[-0.3182,  1.2154,  1.4200, -0.0547,  0.6839],\n",
            "        [-1.3246, -0.5161,  0.6002, -0.4702, -0.6086],\n",
            "        [-0.0462, -1.6457, -0.4833, -0.7403,  0.3143],\n",
            "        [ 0.1416,  1.0348, -0.6264, -0.5151,  0.6903]])\n",
            "Global sum: tensor(-1.2491)\n",
            "Mean along dim 0: tensor([-0.3869,  0.0221,  0.2276, -0.4451,  0.2700])\n",
            "Max along dim 1: torch.return_types.max(\n",
            "values=tensor([1.4200, 0.6002, 0.3143, 1.0348]),\n",
            "indices=tensor([2, 2, 4, 1]))\n"
          ]
        }
      ],
      "source": [
        "print(\"\\n=== AGGREGATION ===\")\n",
        "data = torch.randn(4, 5)                            # Random data\n",
        "print(\"Data tensor:\\n\", data)\n",
        "print(\"Global sum:\", torch.sum(data))\n",
        "print(\"Mean along dim 0:\", torch.mean(data, dim=0)) # Column means\n",
        "print(\"Max along dim 1:\", torch.max(data, dim=1))   # Row maximums"
      ]
    },
    {
      "cell_type": "markdown",
      "id": "0aea4afc",
      "metadata": {
        "id": "0aea4afc"
      },
      "source": [
        "# 7. BROADCASTING"
      ]
    },
    {
      "cell_type": "code",
      "execution_count": 83,
      "id": "0d02b4d7",
      "metadata": {
        "id": "0d02b4d7",
        "outputId": "aff4b1bd-0bf9-4a49-9137-45a6c9e5b72e",
        "colab": {
          "base_uri": "https://localhost:8080/"
        }
      },
      "outputs": [
        {
          "output_type": "stream",
          "name": "stdout",
          "text": [
            "\n",
            "=== BROADCASTING ===\n",
            "Matrix:\n",
            " tensor([[1, 2, 3],\n",
            "        [4, 5, 6]])\n",
            "Vector: tensor([10, 20, 30])\n",
            "Broadcast result:\n",
            " tensor([[11, 22, 33],\n",
            "        [14, 25, 36]])\n"
          ]
        }
      ],
      "source": [
        "print(\"\\n=== BROADCASTING ===\")\n",
        "matrix = torch.tensor([[1, 2, 3], [4, 5, 6]])\n",
        "vector = torch.tensor([10, 20, 30])\n",
        "\n",
        "result = matrix + vector                            # Broadcasting\n",
        "print(\"Matrix:\\n\", matrix)\n",
        "print(\"Vector:\", vector)\n",
        "print(\"Broadcast result:\\n\", result)"
      ]
    },
    {
      "cell_type": "markdown",
      "id": "4f36b977",
      "metadata": {
        "id": "4f36b977"
      },
      "source": [
        "# 8. RANDOM OPERATIONS"
      ]
    },
    {
      "cell_type": "code",
      "execution_count": 84,
      "id": "114efba9",
      "metadata": {
        "id": "114efba9",
        "outputId": "e32baf2f-2767-456c-effe-48ec12524786",
        "colab": {
          "base_uri": "https://localhost:8080/"
        }
      },
      "outputs": [
        {
          "output_type": "stream",
          "name": "stdout",
          "text": [
            "\n",
            "=== RANDOM OPERATIONS ===\n",
            "Uniform random:\n",
            " tensor([[0.8823, 0.9150, 0.3829],\n",
            "        [0.9593, 0.3904, 0.6009]])\n",
            "Normal random:\n",
            " tensor([[ 1.1561,  0.3965, -2.4661],\n",
            "        [ 0.3623,  0.3765, -0.1808]])\n",
            "Random integers:\n",
            " tensor([[7, 6, 9],\n",
            "        [6, 3, 1]])\n"
          ]
        }
      ],
      "source": [
        "print(\"\\n=== RANDOM OPERATIONS ===\")\n",
        "torch.manual_seed(42)                               # Set seed\n",
        "random_tensor = torch.rand(2, 3)                    # Uniform\n",
        "normal_tensor = torch.randn(2, 3)                   # Normal\n",
        "randint_tensor = torch.randint(0, 10, (2, 3))       # Integers\n",
        "\n",
        "print(\"Uniform random:\\n\", random_tensor)\n",
        "print(\"Normal random:\\n\", normal_tensor)\n",
        "print(\"Random integers:\\n\", randint_tensor)"
      ]
    },
    {
      "cell_type": "code",
      "execution_count": 85,
      "id": "2a8da42b",
      "metadata": {
        "id": "2a8da42b"
      },
      "outputs": [],
      "source": [
        "# 9. CONCATENATION & SPLITTING"
      ]
    },
    {
      "cell_type": "code",
      "execution_count": 86,
      "id": "b5bfc17d",
      "metadata": {
        "id": "b5bfc17d",
        "outputId": "be8cd9e2-953e-4eae-f9a3-c2e4ec1c2536",
        "colab": {
          "base_uri": "https://localhost:8080/"
        }
      },
      "outputs": [
        {
          "output_type": "stream",
          "name": "stdout",
          "text": [
            "\n",
            "=== CONCATENATION & SPLITTING ===\n",
            "Vertical concat:\n",
            " tensor([[1, 2],\n",
            "        [3, 4],\n",
            "        [5, 6],\n",
            "        [7, 8]])\n",
            "Horizontal concat:\n",
            " tensor([[1, 2, 5, 6],\n",
            "        [3, 4, 7, 8]])\n",
            "After splitting:\n",
            "Chunk 0:\n",
            "tensor([[1, 2],\n",
            "        [3, 4]])\n",
            "Chunk 1:\n",
            "tensor([[5, 6],\n",
            "        [7, 8]])\n"
          ]
        }
      ],
      "source": [
        "print(\"\\n=== CONCATENATION & SPLITTING ===\")\n",
        "t1 = torch.tensor([[1, 2], [3, 4]])\n",
        "t2 = torch.tensor([[5, 6], [7, 8]])\n",
        "\n",
        "# Concatenation\n",
        "cat_vertical = torch.cat([t1, t2], dim=0)           # Vertical\n",
        "cat_horizontal = torch.cat([t1, t2], dim=1)         # Horizontal\n",
        "\n",
        "print(\"Vertical concat:\\n\", cat_vertical)\n",
        "print(\"Horizontal concat:\\n\", cat_horizontal)\n",
        "\n",
        "# Splitting\n",
        "chunks = torch.chunk(cat_vertical, 2, dim=0)        # Split into chunks\n",
        "print(\"After splitting:\")\n",
        "for i, chunk in enumerate(chunks):\n",
        "    print(f\"Chunk {i}:\\n{chunk}\")"
      ]
    },
    {
      "cell_type": "code",
      "execution_count": 87,
      "id": "297dad88",
      "metadata": {
        "id": "297dad88"
      },
      "outputs": [],
      "source": [
        "# 10. GPU OPERATIONS"
      ]
    },
    {
      "cell_type": "code",
      "execution_count": 88,
      "id": "496b3b99",
      "metadata": {
        "id": "496b3b99",
        "outputId": "60ab91e1-d9e2-4a28-eafd-b39be1ca3043",
        "colab": {
          "base_uri": "https://localhost:8080/"
        }
      },
      "outputs": [
        {
          "output_type": "stream",
          "name": "stdout",
          "text": [
            "\n",
            "=== GPU OPERATIONS ===\n",
            "GPU not available, using CPU\n"
          ]
        }
      ],
      "source": [
        "print(\"\\n=== GPU OPERATIONS ===\")\n",
        "if torch.cuda.is_available():\n",
        "    device = torch.device(\"cuda\")\n",
        "    tensor_gpu = tensor_2d.to(device)               # Move to GPU\n",
        "    print(f\"Tensor on: {tensor_gpu.device}\")\n",
        "\n",
        "    # Operations on GPU\n",
        "    result_gpu = tensor_gpu + 1\n",
        "    print(\"GPU operation result on CPU:\", result_gpu.cpu())\n",
        "else:\n",
        "    print(\"GPU not available, using CPU\")"
      ]
    },
    {
      "cell_type": "code",
      "execution_count": 89,
      "id": "29e1f4b4",
      "metadata": {
        "id": "29e1f4b4"
      },
      "outputs": [],
      "source": [
        "# 🏋️ LATIHAN 4: OPERASI PYTORCH UNTUK DEEP LEARNING\n",
        "\n",
        "### TENSOR OPERATIONS FOR NEURAL NETWORKS ###"
      ]
    },
    {
      "cell_type": "code",
      "execution_count": 90,
      "id": "61ddec89",
      "metadata": {
        "id": "61ddec89",
        "outputId": "21abc2ef-878b-4d81-ae1f-8022027a2aa2",
        "colab": {
          "base_uri": "https://localhost:8080/"
        }
      },
      "outputs": [
        {
          "output_type": "stream",
          "name": "stdout",
          "text": [
            "\n",
            "=== TODO 1: LINEAR LAYER (y = XW + b) ===\n",
            "Input shape: torch.Size([32, 10])\n",
            "Weights shape: torch.Size([10, 1])\n",
            "Bias shape: torch.Size([1])\n",
            "Output (first 5 rows):\n",
            " tensor([[ 4.7204],\n",
            "        [ 0.1580],\n",
            "        [-0.8167],\n",
            "        [ 1.0195],\n",
            "        [-0.7342]])\n",
            "Output shape: torch.Size([32, 1])\n",
            "\n",
            "=== TODO 2: ReLU ACTIVATION ===\n",
            "Activated Output (first 5 rows):\n",
            " tensor([[4.7204],\n",
            "        [0.1580],\n",
            "        [0.0000],\n",
            "        [1.0195],\n",
            "        [0.0000]])\n",
            "Jumlah nilai negatif yang diubah jadi 0: 18\n",
            "\n",
            "=== TODO 3: SIMPLE BATCH NORMALIZATION ===\n",
            "Mean per feature setelah normalisasi (≈ 0):\n",
            " tensor([-1.1176e-08,  1.8626e-08, -5.2154e-08,  7.4506e-09,  1.4901e-08,\n",
            "        -3.7253e-09, -7.4506e-09, -1.3039e-08,  0.0000e+00,  1.4901e-08])\n",
            "Std per feature setelah normalisasi (≈ 1):\n",
            " tensor([1.0000, 1.0000, 1.0000, 1.0000, 1.0000, 1.0000, 1.0000, 1.0000, 1.0000,\n",
            "        1.0000])\n",
            "Normalized shape: torch.Size([32, 10])\n",
            "\n",
            "=== TODO 4: ONE-HOT ENCODING ===\n",
            "Labels asli: [2, 1, 2, 1, 1, 1, 1, 0, 1, 2]\n",
            "One-hot encoded:\n",
            " tensor([[0., 0., 1.],\n",
            "        [0., 1., 0.],\n",
            "        [0., 0., 1.],\n",
            "        [0., 1., 0.],\n",
            "        [0., 1., 0.],\n",
            "        [0., 1., 0.],\n",
            "        [0., 1., 0.],\n",
            "        [1., 0., 0.],\n",
            "        [0., 1., 0.],\n",
            "        [0., 0., 1.]])\n",
            "One-hot shape: torch.Size([10, 3])\n",
            "\n",
            "✅ PyTorch operations completed successfully\n",
            "\n",
            "=== BONUS: MANUAL MATRIX MULTIPLICATION ===\n",
            "Matrix A:\n",
            " tensor([[1., 2.],\n",
            "        [3., 4.]])\n",
            "Matrix B:\n",
            " tensor([[5., 6.],\n",
            "        [7., 8.]])\n",
            "Manual Result:\n",
            " tensor([[19., 22.],\n",
            "        [43., 50.]])\n",
            "Torch Result:\n",
            " tensor([[19., 22.],\n",
            "        [43., 50.]])\n",
            "Perbandingan hasil sama: True\n",
            "✅ Advanced tensor operations completed successfully\n"
          ]
        }
      ],
      "source": [
        "import torch\n",
        "\n",
        "'''TODO: Implementasi Operasi Dasar Neural Networks'''\n",
        "# Simulasi batch data: 32 samples, 10 features\n",
        "batch_size, n_features = 32, 10\n",
        "X = torch.randn(batch_size, n_features)\n",
        "weights = torch.randn(n_features, 1)\n",
        "bias = torch.randn(1)\n",
        "\n",
        "# ✅ TODO 1: Implementasi linear layer manual: y = XW + b\n",
        "def linear_layer(X, W, b):\n",
        "    # Operasi linear: y = XW + b\n",
        "    return torch.matmul(X, W) + b\n",
        "\n",
        "output = linear_layer(X, weights, bias)\n",
        "print(\"\\n=== TODO 1: LINEAR LAYER (y = XW + b) ===\")\n",
        "print(\"Input shape:\", X.shape)\n",
        "print(\"Weights shape:\", weights.shape)\n",
        "print(\"Bias shape:\", bias.shape)\n",
        "print(\"Output (first 5 rows):\\n\", output[:5])\n",
        "print(\"Output shape:\", output.shape)\n",
        "\n",
        "# ✅ TODO 2: Implementasi ReLU activation function\n",
        "def relu_activation(tensor):\n",
        "    # ReLU: max(0, x)\n",
        "    return torch.maximum(tensor, torch.tensor(0.0))\n",
        "\n",
        "activated = relu_activation(output)\n",
        "print(\"\\n=== TODO 2: ReLU ACTIVATION ===\")\n",
        "print(\"Activated Output (first 5 rows):\\n\", activated[:5])\n",
        "print(\"Jumlah nilai negatif yang diubah jadi 0:\", torch.sum(output < 0).item())\n",
        "\n",
        "# ✅ TODO 3: Batch normalization sederhana\n",
        "def simple_batch_norm(tensor, epsilon=1e-5):\n",
        "    # Normalisasi per feature: (x - mean) / (std + epsilon)\n",
        "    mean = tensor.mean(dim=0, keepdim=True)\n",
        "    std = tensor.std(dim=0, keepdim=True)\n",
        "    return (tensor - mean) / (std + epsilon)\n",
        "\n",
        "normalized = simple_batch_norm(X)\n",
        "print(\"\\n=== TODO 3: SIMPLE BATCH NORMALIZATION ===\")\n",
        "print(\"Mean per feature setelah normalisasi (≈ 0):\\n\", normalized.mean(dim=0))\n",
        "print(\"Std per feature setelah normalisasi (≈ 1):\\n\", normalized.std(dim=0))\n",
        "print(\"Normalized shape:\", normalized.shape)\n",
        "\n",
        "# ✅ TODO 4: One-hot encoding manual\n",
        "def one_hot_pytorch(labels, num_classes):\n",
        "    # Membuat tensor nol dengan ukuran [n_labels, num_classes]\n",
        "    one_hot = torch.zeros(labels.size(0), num_classes)\n",
        "    one_hot[torch.arange(labels.size(0)), labels] = 1\n",
        "    return one_hot\n",
        "\n",
        "labels = torch.randint(0, 3, (10,))\n",
        "one_hot = one_hot_pytorch(labels, num_classes=3)\n",
        "print(\"\\n=== TODO 4: ONE-HOT ENCODING ===\")\n",
        "print(\"Labels asli:\", labels.tolist())\n",
        "print(\"One-hot encoded:\\n\", one_hot)\n",
        "print(\"One-hot shape:\", one_hot.shape)\n",
        "\n",
        "# Validasi hasil\n",
        "assert output.shape == (batch_size, 1), \"Linear output shape incorrect\"\n",
        "assert torch.all(activated >= 0), \"ReLU should be >= 0\"\n",
        "assert normalized.shape == X.shape, \"Batch norm should preserve shape\"\n",
        "assert one_hot.shape == (10, 3), \"One-hot shape incorrect\"\n",
        "print(\"\\n✅ PyTorch operations completed successfully\")\n",
        "\n",
        "\n",
        "### BONUS: ADVANCED TENSOR OPERATIONS ###\n",
        "\n",
        "'''TODO: Matrix Multiplication dari Prinsip Dasar'''\n",
        "def manual_matrix_multiply(A, B):\n",
        "    \"\"\"\n",
        "    Implementasi perkalian matriks manual tanpa torch.matmul\n",
        "    \"\"\"\n",
        "    # Pastikan ukuran kolom A = baris B\n",
        "    assert A.shape[1] == B.shape[0], \"Ukuran matriks tidak cocok\"\n",
        "    result = torch.zeros(A.shape[0], B.shape[1])\n",
        "    for i in range(A.shape[0]):\n",
        "        for j in range(B.shape[1]):\n",
        "            result[i, j] = torch.sum(A[i, :] * B[:, j])\n",
        "    return result\n",
        "\n",
        "# Test dengan matriks kecil\n",
        "A = torch.tensor([[1, 2], [3, 4]], dtype=torch.float32)\n",
        "B = torch.tensor([[5, 6], [7, 8]], dtype=torch.float32)\n",
        "\n",
        "manual_result = manual_matrix_multiply(A, B)\n",
        "torch_result = torch.matmul(A, B)\n",
        "\n",
        "print(\"\\n=== BONUS: MANUAL MATRIX MULTIPLICATION ===\")\n",
        "print(\"Matrix A:\\n\", A)\n",
        "print(\"Matrix B:\\n\", B)\n",
        "print(\"Manual Result:\\n\", manual_result)\n",
        "print(\"Torch Result:\\n\", torch_result)\n",
        "print(\"Perbandingan hasil sama:\", torch.allclose(manual_result, torch_result))\n",
        "\n",
        "assert torch.allclose(manual_result, torch_result), \"Manual multiplication incorrect\"\n",
        "print(\"✅ Advanced tensor operations completed successfully\")"
      ]
    }
  ],
  "metadata": {
    "kernelspec": {
      "display_name": ".venv",
      "language": "python",
      "name": "python3"
    },
    "language_info": {
      "codemirror_mode": {
        "name": "ipython",
        "version": 3
      },
      "file_extension": ".py",
      "mimetype": "text/x-python",
      "name": "python",
      "nbconvert_exporter": "python",
      "pygments_lexer": "ipython3",
      "version": "3.11.9"
    },
    "colab": {
      "provenance": [],
      "include_colab_link": true
    }
  },
  "nbformat": 4,
  "nbformat_minor": 5
}