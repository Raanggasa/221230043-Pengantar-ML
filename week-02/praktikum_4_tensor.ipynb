{
  "cells": [
    {
      "cell_type": "markdown",
      "metadata": {
        "id": "view-in-github",
        "colab_type": "text"
      },
      "source": [
        "<a href=\"https://colab.research.google.com/github/Raanggasa/221230043-Pengantar-ML/blob/main/week-02/praktikum_4_tensor.ipynb\" target=\"_parent\"><img src=\"https://colab.research.google.com/assets/colab-badge.svg\" alt=\"Open In Colab\"/></a>"
      ]
    },
    {
      "cell_type": "markdown",
      "id": "3f9a9170",
      "metadata": {
        "id": "3f9a9170"
      },
      "source": [
        "# Praktikum 4: Pengenalan Tensor pada PyTorch\n",
        "\n",
        "<a href=\"https://colab.research.google.com/github/pakizhan-ump/ml-umpontianak/blob/main/Modules/Week-02/Praktikum-02/praktikum_4_tensor.ipynb\" target=\"_parent\"><img src=\"https://colab.research.google.com/assets/colab-badge.svg\" alt=\"Open In Colab\"/></a>\n",
        "\n",
        "## 🎯 Tujuan Praktikum\n",
        "Mahasiswa memahami struktur data dasar dalam library **PyTorch**, yaitu **Tensor**, dan mampu melakukan operasi-operasi fundamental yang menjadi dasar dari komputasi deep learning.\n",
        "\n",
        "## 📖 Dasar Teori\n",
        "**PyTorch** adalah salah satu *framework* deep learning terpopuler. Unit data fundamental di PyTorch adalah **Tensor**. Secara konseptual, sebuah tensor adalah generalisasi dari vektor dan matriks ke dimensi yang lebih tinggi.\n",
        "* Skalar = Tensor 0D\n",
        "* Vektor = Tensor 1D\n",
        "* Matriks = Tensor 2D\n",
        "\n",
        "Tensor sangat mirip dengan NumPy ndarray, namun memiliki dua keunggulan krusial untuk deep learning:\n",
        "1.  **Akselerasi GPU:** Tensor dapat dengan mudah dipindahkan ke *Graphics Processing Unit* (GPU) untuk mendapatkan percepatan komputasi yang masif. Ini sangat penting untuk melatih model deep learning yang kompleks pada data besar.\n",
        "2.  **Dukungan Autograd:** PyTorch dapat secara otomatis melacak histori operasi pada tensor dan menghitung gradien (turunan) dari operasi tersebut. Fitur ini, yang disebut *automatic differentiation*, adalah inti dari algoritma *backpropagation* yang digunakan untuk melatih hampir semua jaringan saraf tiruan.\n"
      ]
    },
    {
      "cell_type": "markdown",
      "id": "22e6d78a",
      "metadata": {
        "id": "22e6d78a"
      },
      "source": [
        "# 🔧 OPERASI FUNDAMENTAL PYTORCH"
      ]
    },
    {
      "cell_type": "code",
      "execution_count": null,
      "id": "252f9628",
      "metadata": {
        "id": "252f9628"
      },
      "outputs": [],
      "source": [
        "#!pip install torch torchvision torchaudio"
      ]
    },
    {
      "cell_type": "code",
      "execution_count": null,
      "id": "450749ec",
      "metadata": {
        "id": "450749ec"
      },
      "outputs": [],
      "source": [
        "import torch\n",
        "import numpy as np"
      ]
    },
    {
      "cell_type": "code",
      "execution_count": null,
      "id": "c16a5029",
      "metadata": {
        "colab": {
          "base_uri": "https://localhost:8080/"
        },
        "id": "c16a5029",
        "outputId": "6da0a13a-40f7-48a8-d6dd-0baebdddebec"
      },
      "outputs": [
        {
          "output_type": "stream",
          "name": "stdout",
          "text": [
            "2.8.0+cu126\n",
            "CUDA available: False\n"
          ]
        }
      ],
      "source": [
        "import torch\n",
        "print(torch.__version__)\n",
        "print(\"CUDA available:\", torch.cuda.is_available())"
      ]
    },
    {
      "cell_type": "markdown",
      "id": "59d9085c",
      "metadata": {
        "id": "59d9085c"
      },
      "source": [
        "# 1. TENSOR CREATION & TYPES"
      ]
    },
    {
      "cell_type": "code",
      "execution_count": null,
      "id": "23f7e58b",
      "metadata": {
        "colab": {
          "base_uri": "https://localhost:8080/"
        },
        "id": "23f7e58b",
        "outputId": "db22c338-030f-472f-86c6-99db0e8a9a70"
      },
      "outputs": [
        {
          "output_type": "stream",
          "name": "stdout",
          "text": [
            "=== TENSOR CREATION ===\n",
            "Zeros tensor:\n",
            " tensor([[0., 0., 0.],\n",
            "        [0., 0., 0.]])\n",
            "Random tensor:\n",
            " tensor([[0.1830, 0.4459, 0.5643],\n",
            "        [0.9260, 0.2614, 0.8203]])\n",
            "Arange tensor: tensor([0, 2, 4, 6, 8])\n"
          ]
        }
      ],
      "source": [
        "print(\"=== TENSOR CREATION ===\")\n",
        "# Various creation methods\n",
        "tensor_zeros = torch.zeros(2, 3)                    # Zeros tensor\n",
        "tensor_ones = torch.ones(2, 3)                      # Ones tensor\n",
        "tensor_rand = torch.rand(2, 3)                      # Random [0,1)\n",
        "tensor_randn = torch.randn(2, 3)                    # Normal distribution\n",
        "tensor_arange = torch.arange(0, 10, 2)              # Like range()\n",
        "\n",
        "print(\"Zeros tensor:\\n\", tensor_zeros)\n",
        "print(\"Random tensor:\\n\", tensor_rand)\n",
        "print(\"Arange tensor:\", tensor_arange)"
      ]
    },
    {
      "cell_type": "markdown",
      "id": "323fa6d4",
      "metadata": {
        "id": "323fa6d4"
      },
      "source": [
        "# 2. DATA TYPES & SHAPE"
      ]
    },
    {
      "cell_type": "code",
      "execution_count": null,
      "id": "c58aa0d2",
      "metadata": {
        "colab": {
          "base_uri": "https://localhost:8080/"
        },
        "id": "c58aa0d2",
        "outputId": "6e43d4c5-a035-422c-9965-1ef4006456bd"
      },
      "outputs": [
        {
          "output_type": "stream",
          "name": "stdout",
          "text": [
            "\n",
            "=== DATA TYPES & SHAPE ===\n",
            "Integer tensor dtype: torch.int32\n",
            "Float tensor dtype: torch.float32\n",
            "Tensor shape: torch.Size([3])\n",
            "Tensor size: torch.Size([3])\n",
            "Number of elements: 3\n"
          ]
        }
      ],
      "source": [
        "print(\"\\n=== DATA TYPES & SHAPE ===\")\n",
        "tensor_int = torch.tensor([1, 2, 3], dtype=torch.int32)\n",
        "tensor_float = torch.tensor([1.0, 2.0, 3.0], dtype=torch.float32)\n",
        "\n",
        "print(\"Integer tensor dtype:\", tensor_int.dtype)\n",
        "print(\"Float tensor dtype:\", tensor_float.dtype)\n",
        "print(\"Tensor shape:\", tensor_float.shape)\n",
        "print(\"Tensor size:\", tensor_float.size())\n",
        "print(\"Number of elements:\", tensor_float.numel())"
      ]
    },
    {
      "cell_type": "markdown",
      "id": "e54d872a",
      "metadata": {
        "id": "e54d872a"
      },
      "source": [
        "# 3. ACCESS & SLICING"
      ]
    },
    {
      "cell_type": "code",
      "execution_count": null,
      "id": "38400ba4",
      "metadata": {
        "colab": {
          "base_uri": "https://localhost:8080/"
        },
        "id": "38400ba4",
        "outputId": "a974163c-9eeb-48a6-f702-446cfa29023b"
      },
      "outputs": [
        {
          "output_type": "stream",
          "name": "stdout",
          "text": [
            "\n",
            "=== ACCESS & SLICING ===\n",
            "Original tensor:\n",
            " tensor([[1, 2, 3],\n",
            "        [4, 5, 6],\n",
            "        [7, 8, 9]])\n",
            "Element [1,2]: tensor(6)\n",
            "First row: tensor([1, 2, 3])\n",
            "Last column: tensor([3, 6, 9])\n",
            "Submatrix:\n",
            " tensor([[2, 3],\n",
            "        [5, 6]])\n"
          ]
        }
      ],
      "source": [
        "print(\"\\n=== ACCESS & SLICING ===\")\n",
        "tensor_2d = torch.tensor([[1, 2, 3], [4, 5, 6], [7, 8, 9]])\n",
        "print(\"Original tensor:\\n\", tensor_2d)\n",
        "print(\"Element [1,2]:\", tensor_2d[1, 2])\n",
        "print(\"First row:\", tensor_2d[0, :])\n",
        "print(\"Last column:\", tensor_2d[:, -1])\n",
        "print(\"Submatrix:\\n\", tensor_2d[0:2, 1:3])"
      ]
    },
    {
      "cell_type": "markdown",
      "id": "ed427bea",
      "metadata": {
        "id": "ed427bea"
      },
      "source": [
        "# 4. RESHAPING"
      ]
    },
    {
      "cell_type": "code",
      "execution_count": null,
      "id": "35df00a4",
      "metadata": {
        "colab": {
          "base_uri": "https://localhost:8080/"
        },
        "id": "35df00a4",
        "outputId": "4efef8b6-1a59-43b8-ffc9-ecf917d41c2a"
      },
      "outputs": [
        {
          "output_type": "stream",
          "name": "stdout",
          "text": [
            "\n",
            "=== RESHAPING ===\n",
            "Original shape: torch.Size([12])\n",
            "Reshaped 3x4:\n",
            " tensor([[ 0,  1,  2,  3],\n",
            "        [ 4,  5,  6,  7],\n",
            "        [ 8,  9, 10, 11]])\n",
            "Transposed 4x3:\n",
            " tensor([[ 0,  4,  8],\n",
            "        [ 1,  5,  9],\n",
            "        [ 2,  6, 10],\n",
            "        [ 3,  7, 11]])\n",
            "Flattened: tensor([ 0,  1,  2,  3,  4,  5,  6,  7,  8,  9, 10, 11])\n"
          ]
        }
      ],
      "source": [
        "print(\"\\n=== RESHAPING ===\")\n",
        "tensor_1d = torch.arange(12)\n",
        "print(\"Original shape:\", tensor_1d.shape)\n",
        "\n",
        "reshaped = tensor_1d.reshape(3, 4)                  # Reshape\n",
        "viewed = tensor_1d.view(3, 4)                       # View (shares memory)\n",
        "transposed = reshaped.T                             # Transpose\n",
        "flattened = reshaped.flatten()                      # Flatten\n",
        "\n",
        "print(\"Reshaped 3x4:\\n\", reshaped)\n",
        "print(\"Transposed 4x3:\\n\", transposed)\n",
        "print(\"Flattened:\", flattened)"
      ]
    },
    {
      "cell_type": "markdown",
      "id": "c7f24385",
      "metadata": {
        "id": "c7f24385"
      },
      "source": [
        "# 5. MATHEMATICAL OPERATIONS"
      ]
    },
    {
      "cell_type": "code",
      "execution_count": null,
      "id": "8b41deab",
      "metadata": {
        "colab": {
          "base_uri": "https://localhost:8080/"
        },
        "id": "8b41deab",
        "outputId": "34226586-59f4-444d-9138-8ea841a92dfe"
      },
      "outputs": [
        {
          "output_type": "stream",
          "name": "stdout",
          "text": [
            "\n",
            "=== MATHEMATICAL OPERATIONS ===\n",
            "a + b = tensor([5., 7., 9.])\n",
            "a * b = tensor([ 4., 10., 18.])\n",
            "a ** 2 = tensor([1., 4., 9.])\n",
            "torch.matmul: tensor(32.)\n",
            "torch.sum(a) = tensor(6.)\n"
          ]
        }
      ],
      "source": [
        "print(\"\\n=== MATHEMATICAL OPERATIONS ===\")\n",
        "a = torch.tensor([1.0, 2.0, 3.0])\n",
        "b = torch.tensor([4.0, 5.0, 6.0])\n",
        "\n",
        "print(\"a + b =\", a + b)                             # Element-wise\n",
        "print(\"a * b =\", a * b)\n",
        "print(\"a ** 2 =\", a ** 2)\n",
        "print(\"torch.matmul:\", torch.matmul(a, b))          # Dot product\n",
        "print(\"torch.sum(a) =\", torch.sum(a))               # Reduction"
      ]
    },
    {
      "cell_type": "markdown",
      "id": "24d91679",
      "metadata": {
        "id": "24d91679"
      },
      "source": [
        "# 6. AGGREGATION"
      ]
    },
    {
      "cell_type": "code",
      "execution_count": null,
      "id": "fbed82c8",
      "metadata": {
        "colab": {
          "base_uri": "https://localhost:8080/"
        },
        "id": "fbed82c8",
        "outputId": "32b2f3a5-0056-40fb-f92f-43b8ec7722d9"
      },
      "outputs": [
        {
          "output_type": "stream",
          "name": "stdout",
          "text": [
            "\n",
            "=== AGGREGATION ===\n",
            "Data tensor:\n",
            " tensor([[-8.5424e-01,  5.3882e-01, -5.2649e-01, -1.3320e+00,  1.7389e+00],\n",
            "        [-9.4229e-01,  1.1617e+00,  2.0278e+00, -1.8071e+00, -5.5707e-01],\n",
            "        [-2.2706e-01,  6.5751e-01,  1.2293e+00, -1.2231e-03, -1.1441e+00],\n",
            "        [-1.0940e+00, -5.4540e-01, -4.8224e-01,  1.0615e+00, -6.3780e-01]])\n",
            "Global sum: tensor(-1.7356)\n",
            "Mean along dim 0: tensor([-0.7794,  0.4532,  0.5621, -0.5197, -0.1500])\n",
            "Max along dim 1: torch.return_types.max(\n",
            "values=tensor([1.7389, 2.0278, 1.2293, 1.0615]),\n",
            "indices=tensor([4, 2, 2, 3]))\n"
          ]
        }
      ],
      "source": [
        "print(\"\\n=== AGGREGATION ===\")\n",
        "data = torch.randn(4, 5)                            # Random data\n",
        "print(\"Data tensor:\\n\", data)\n",
        "print(\"Global sum:\", torch.sum(data))\n",
        "print(\"Mean along dim 0:\", torch.mean(data, dim=0)) # Column means\n",
        "print(\"Max along dim 1:\", torch.max(data, dim=1))   # Row maximums"
      ]
    },
    {
      "cell_type": "markdown",
      "id": "0aea4afc",
      "metadata": {
        "id": "0aea4afc"
      },
      "source": [
        "# 7. BROADCASTING"
      ]
    },
    {
      "cell_type": "code",
      "execution_count": null,
      "id": "0d02b4d7",
      "metadata": {
        "colab": {
          "base_uri": "https://localhost:8080/"
        },
        "id": "0d02b4d7",
        "outputId": "d2519c5c-45c9-4dc1-87ca-ee4fcb459ad2"
      },
      "outputs": [
        {
          "output_type": "stream",
          "name": "stdout",
          "text": [
            "\n",
            "=== BROADCASTING ===\n",
            "Matrix:\n",
            " tensor([[1, 2, 3],\n",
            "        [4, 5, 6]])\n",
            "Vector: tensor([10, 20, 30])\n",
            "Broadcast result:\n",
            " tensor([[11, 22, 33],\n",
            "        [14, 25, 36]])\n"
          ]
        }
      ],
      "source": [
        "print(\"\\n=== BROADCASTING ===\")\n",
        "matrix = torch.tensor([[1, 2, 3], [4, 5, 6]])\n",
        "vector = torch.tensor([10, 20, 30])\n",
        "\n",
        "result = matrix + vector                            # Broadcasting\n",
        "print(\"Matrix:\\n\", matrix)\n",
        "print(\"Vector:\", vector)\n",
        "print(\"Broadcast result:\\n\", result)"
      ]
    },
    {
      "cell_type": "markdown",
      "id": "4f36b977",
      "metadata": {
        "id": "4f36b977"
      },
      "source": [
        "# 8. RANDOM OPERATIONS"
      ]
    },
    {
      "cell_type": "code",
      "execution_count": null,
      "id": "114efba9",
      "metadata": {
        "colab": {
          "base_uri": "https://localhost:8080/"
        },
        "id": "114efba9",
        "outputId": "991cb527-7f7d-46ae-815f-32d9688a8182"
      },
      "outputs": [
        {
          "output_type": "stream",
          "name": "stdout",
          "text": [
            "\n",
            "=== RANDOM OPERATIONS ===\n",
            "Uniform random:\n",
            " tensor([[0.8823, 0.9150, 0.3829],\n",
            "        [0.9593, 0.3904, 0.6009]])\n",
            "Normal random:\n",
            " tensor([[ 1.1561,  0.3965, -2.4661],\n",
            "        [ 0.3623,  0.3765, -0.1808]])\n",
            "Random integers:\n",
            " tensor([[7, 6, 9],\n",
            "        [6, 3, 1]])\n"
          ]
        }
      ],
      "source": [
        "print(\"\\n=== RANDOM OPERATIONS ===\")\n",
        "torch.manual_seed(42)                               # Set seed\n",
        "random_tensor = torch.rand(2, 3)                    # Uniform\n",
        "normal_tensor = torch.randn(2, 3)                   # Normal\n",
        "randint_tensor = torch.randint(0, 10, (2, 3))       # Integers\n",
        "\n",
        "print(\"Uniform random:\\n\", random_tensor)\n",
        "print(\"Normal random:\\n\", normal_tensor)\n",
        "print(\"Random integers:\\n\", randint_tensor)"
      ]
    },
    {
      "cell_type": "code",
      "execution_count": null,
      "id": "2a8da42b",
      "metadata": {
        "id": "2a8da42b"
      },
      "outputs": [],
      "source": [
        "# 9. CONCATENATION & SPLITTING"
      ]
    },
    {
      "cell_type": "code",
      "execution_count": null,
      "id": "b5bfc17d",
      "metadata": {
        "colab": {
          "base_uri": "https://localhost:8080/"
        },
        "id": "b5bfc17d",
        "outputId": "317e5ab2-7114-4b33-8285-2afdd9a24c14"
      },
      "outputs": [
        {
          "output_type": "stream",
          "name": "stdout",
          "text": [
            "\n",
            "=== CONCATENATION & SPLITTING ===\n",
            "Vertical concat:\n",
            " tensor([[1, 2],\n",
            "        [3, 4],\n",
            "        [5, 6],\n",
            "        [7, 8]])\n",
            "Horizontal concat:\n",
            " tensor([[1, 2, 5, 6],\n",
            "        [3, 4, 7, 8]])\n",
            "After splitting:\n",
            "Chunk 0:\n",
            "tensor([[1, 2],\n",
            "        [3, 4]])\n",
            "Chunk 1:\n",
            "tensor([[5, 6],\n",
            "        [7, 8]])\n"
          ]
        }
      ],
      "source": [
        "print(\"\\n=== CONCATENATION & SPLITTING ===\")\n",
        "t1 = torch.tensor([[1, 2], [3, 4]])\n",
        "t2 = torch.tensor([[5, 6], [7, 8]])\n",
        "\n",
        "# Concatenation\n",
        "cat_vertical = torch.cat([t1, t2], dim=0)           # Vertical\n",
        "cat_horizontal = torch.cat([t1, t2], dim=1)         # Horizontal\n",
        "\n",
        "print(\"Vertical concat:\\n\", cat_vertical)\n",
        "print(\"Horizontal concat:\\n\", cat_horizontal)\n",
        "\n",
        "# Splitting\n",
        "chunks = torch.chunk(cat_vertical, 2, dim=0)        # Split into chunks\n",
        "print(\"After splitting:\")\n",
        "for i, chunk in enumerate(chunks):\n",
        "    print(f\"Chunk {i}:\\n{chunk}\")"
      ]
    },
    {
      "cell_type": "code",
      "execution_count": null,
      "id": "297dad88",
      "metadata": {
        "id": "297dad88"
      },
      "outputs": [],
      "source": [
        "# 10. GPU OPERATIONS"
      ]
    },
    {
      "cell_type": "code",
      "execution_count": null,
      "id": "496b3b99",
      "metadata": {
        "colab": {
          "base_uri": "https://localhost:8080/"
        },
        "id": "496b3b99",
        "outputId": "6cdddcbe-ee28-4cb1-8c21-e759f253ec66"
      },
      "outputs": [
        {
          "output_type": "stream",
          "name": "stdout",
          "text": [
            "\n",
            "=== GPU OPERATIONS ===\n",
            "GPU not available, using CPU\n"
          ]
        }
      ],
      "source": [
        "print(\"\\n=== GPU OPERATIONS ===\")\n",
        "if torch.cuda.is_available():\n",
        "    device = torch.device(\"cuda\")\n",
        "    tensor_gpu = tensor_2d.to(device)               # Move to GPU\n",
        "    print(f\"Tensor on: {tensor_gpu.device}\")\n",
        "\n",
        "    # Operations on GPU\n",
        "    result_gpu = tensor_gpu + 1\n",
        "    print(\"GPU operation result on CPU:\", result_gpu.cpu())\n",
        "else:\n",
        "    print(\"GPU not available, using CPU\")"
      ]
    },
    {
      "cell_type": "code",
      "execution_count": null,
      "id": "29e1f4b4",
      "metadata": {
        "id": "29e1f4b4"
      },
      "outputs": [],
      "source": [
        "# 🏋️ LATIHAN 4: OPERASI PYTORCH UNTUK DEEP LEARNING\n",
        "\n",
        "### TENSOR OPERATIONS FOR NEURAL NETWORKS ###"
      ]
    },
    {
      "cell_type": "code",
      "execution_count": null,
      "id": "61ddec89",
      "metadata": {
        "colab": {
          "base_uri": "https://localhost:8080/"
        },
        "id": "61ddec89",
        "outputId": "4acd6cc6-af61-4e2d-d3b7-8397afd6afb9"
      },
      "outputs": [
        {
          "output_type": "stream",
          "name": "stdout",
          "text": [
            "✅ PyTorch operations completed\n",
            "✅ Advanced tensor operations completed\n"
          ]
        }
      ],
      "source": [
        "'''TODO: Implementasi Operasi Dasar Neural Networks'''\n",
        "# Simulasi batch data: 32 samples, 10 features\n",
        "batch_size, n_features = 32, 10\n",
        "X = torch.randn(batch_size, n_features)\n",
        "weights = torch.randn(n_features, 1)\n",
        "bias = torch.randn(1)\n",
        "\n",
        "# TODO 1: Implementasi linear layer manual: y = XW + b\n",
        "def linear_layer(X, W, b):\n",
        "    return X @ W + b  # atau torch.matmul(X, W) + b\n",
        "\n",
        "output = linear_layer(X, weights, bias)\n",
        "\n",
        "# TODO 2: Implementasi ReLU activation function\n",
        "def relu_activation(tensor):\n",
        "    return torch.maximum(tensor, torch.tensor(0.0))\n",
        "\n",
        "activated = relu_activation(output)\n",
        "\n",
        "# TODO 3: Batch normalization sederhana\n",
        "def simple_batch_norm(tensor, epsilon=1e-5):\n",
        "    mean = tensor.mean(dim=0, keepdim=True)  # per feature across batch\n",
        "    std = tensor.std(dim=0, keepdim=True)\n",
        "    return (tensor - mean) / (std + epsilon)\n",
        "\n",
        "normalized = simple_batch_norm(X)\n",
        "\n",
        "# TODO 4: One-hot encoding manual\n",
        "def one_hot_pytorch(labels, num_classes):\n",
        "    one_hot = torch.zeros(labels.size(0), num_classes, dtype=torch.float32)\n",
        "    one_hot[torch.arange(labels.size(0)), labels] = 1.0\n",
        "    return one_hot\n",
        "\n",
        "labels = torch.randint(0, 3, (10,))\n",
        "one_hot = one_hot_pytorch(labels, num_classes=3)\n",
        "\n",
        "assert output.shape == (batch_size, 1), \"Linear output shape incorrect\"\n",
        "assert torch.all(activated >= 0), \"ReLU should be >= 0\"\n",
        "assert normalized.shape == X.shape, \"Batch norm should preserve shape\"\n",
        "assert one_hot.shape == (10, 3), \"One-hot shape incorrect\"\n",
        "print(\"✅ PyTorch operations completed\")\n",
        "\n",
        "### BONUS: ADVANCED TENSOR OPERATIONS ###\n",
        "\n",
        "'''TODO: Matrix Multiplication dari Prinsip Dasar'''\n",
        "def manual_matrix_multiply(A, B):\n",
        "    \"\"\"\n",
        "    Implementasi perkalian matriks manual tanpa torch.matmul\n",
        "    \"\"\"\n",
        "    m, n = A.shape\n",
        "    n2, p = B.shape\n",
        "    assert n == n2, \"Ukuran tidak cocok untuk perkalian matriks\"\n",
        "\n",
        "    result = torch.zeros((m, p), dtype=A.dtype)\n",
        "    for i in range(m):\n",
        "        for j in range(p):\n",
        "            for k in range(n):\n",
        "                result[i, j] += A[i, k] * B[k, j]\n",
        "    return result\n",
        "\n",
        "# Test dengan matriks kecil\n",
        "A = torch.tensor([[1, 2], [3, 4]], dtype=torch.float32)\n",
        "B = torch.tensor([[5, 6], [7, 8]], dtype=torch.float32)\n",
        "\n",
        "manual_result = manual_matrix_multiply(A, B)\n",
        "torch_result = torch.matmul(A, B)\n",
        "\n",
        "assert torch.allclose(manual_result, torch_result), \"Manual multiplication incorrect\"\n",
        "print(\"✅ Advanced tensor operations completed\")"
      ]
    }
  ],
  "metadata": {
    "kernelspec": {
      "display_name": ".venv",
      "language": "python",
      "name": "python3"
    },
    "language_info": {
      "codemirror_mode": {
        "name": "ipython",
        "version": 3
      },
      "file_extension": ".py",
      "mimetype": "text/x-python",
      "name": "python",
      "nbconvert_exporter": "python",
      "pygments_lexer": "ipython3",
      "version": "3.11.9"
    },
    "colab": {
      "provenance": [],
      "include_colab_link": true
    }
  },
  "nbformat": 4,
  "nbformat_minor": 5
}