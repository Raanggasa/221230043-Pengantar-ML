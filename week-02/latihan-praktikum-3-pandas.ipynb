{
  "cells": [
    {
      "cell_type": "markdown",
      "metadata": {
        "id": "view-in-github",
        "colab_type": "text"
      },
      "source": [
        "<a href=\"https://colab.research.google.com/github/Raanggasa/221230043-Pengantar-ML/blob/main/week-02/latihan-praktikum-3-pandas.ipynb\" target=\"_parent\"><img src=\"https://colab.research.google.com/assets/colab-badge.svg\" alt=\"Open In Colab\"/></a>"
      ]
    },
    {
      "cell_type": "code",
      "execution_count": 1,
      "id": "d5da1e05",
      "metadata": {
        "id": "d5da1e05"
      },
      "outputs": [],
      "source": [
        "import pandas as pd\n",
        "import numpy as np"
      ]
    },
    {
      "cell_type": "markdown",
      "id": "9fd1ba99",
      "metadata": {
        "id": "9fd1ba99"
      },
      "source": [
        "# 1. DATAFRAME CREATION"
      ]
    },
    {
      "cell_type": "code",
      "execution_count": 2,
      "id": "56ca9162",
      "metadata": {
        "id": "56ca9162",
        "outputId": "d47097db-02ed-40fb-c6b4-92f755dc05db",
        "colab": {
          "base_uri": "https://localhost:8080/"
        }
      },
      "outputs": [
        {
          "output_type": "stream",
          "name": "stdout",
          "text": [
            "=== DATAFRAME CREATION ===\n",
            "DataFrame:\n",
            "       Name  Age  Salary Department\n",
            "0    Alice   25   50000         IT\n",
            "1      Bob   30   60000         HR\n",
            "2  Charlie   35   70000         IT\n",
            "3    David   28   55000    Finance\n"
          ]
        }
      ],
      "source": [
        "print(\"=== DATAFRAME CREATION ===\")\n",
        "# From dictionary\n",
        "data = {\n",
        "    'Name': ['Alice', 'Bob', 'Charlie', 'David'],\n",
        "    'Age': [25, 30, 35, 28],\n",
        "    'Salary': [50000, 60000, 70000, 55000],\n",
        "    'Department': ['IT', 'HR', 'IT', 'Finance']\n",
        "}\n",
        "df = pd.DataFrame(data)\n",
        "print(\"DataFrame:\\n\", df)"
      ]
    },
    {
      "cell_type": "markdown",
      "id": "c1f60d0c",
      "metadata": {
        "id": "c1f60d0c"
      },
      "source": [
        "# 2. ACCESS & INDEXING"
      ]
    },
    {
      "cell_type": "code",
      "execution_count": 3,
      "id": "2945f028",
      "metadata": {
        "id": "2945f028",
        "outputId": "1285e6c9-4b65-4d73-c4db-f6b1c4bf5014",
        "colab": {
          "base_uri": "https://localhost:8080/"
        }
      },
      "outputs": [
        {
          "output_type": "stream",
          "name": "stdout",
          "text": [
            "\n",
            "=== ACCESS & INDEXING ===\n",
            "Column 'Name': ['Alice', 'Bob', 'Charlie', 'David']\n",
            "First row:\n",
            " Name          Alice\n",
            "Age              25\n",
            "Salary        50000\n",
            "Department       IT\n",
            "Name: 0, dtype: object\n",
            "Rows 1-2:\n",
            "       Name  Age  Salary Department\n",
            "1      Bob   30   60000         HR\n",
            "2  Charlie   35   70000         IT\n",
            "Filter Age > 28:\n",
            "       Name  Age  Salary Department\n",
            "1      Bob   30   60000         HR\n",
            "2  Charlie   35   70000         IT\n"
          ]
        }
      ],
      "source": [
        "print(\"\\n=== ACCESS & INDEXING ===\")\n",
        "print(\"Column 'Name':\", df['Name'].tolist())\n",
        "print(\"First row:\\n\", df.iloc[0])                    # By integer position\n",
        "print(\"Rows 1-2:\\n\", df.iloc[1:3])\n",
        "print(\"Filter Age > 28:\\n\", df[df['Age'] > 28])"
      ]
    },
    {
      "cell_type": "markdown",
      "id": "93e5c93d",
      "metadata": {
        "id": "93e5c93d"
      },
      "source": [
        "# 3. ADD/REMOVE COLUMNS"
      ]
    },
    {
      "cell_type": "code",
      "execution_count": 4,
      "id": "8694ccd8",
      "metadata": {
        "id": "8694ccd8",
        "outputId": "a0855ae5-533c-4451-88d5-a63b3f703abc",
        "colab": {
          "base_uri": "https://localhost:8080/"
        }
      },
      "outputs": [
        {
          "output_type": "stream",
          "name": "stdout",
          "text": [
            "\n",
            "=== ADD/REMOVE COLUMNS ===\n",
            "After modifications:\n",
            "       Name  Age  Salary Department  Senior\n",
            "0    Alice   25   50000         IT   False\n",
            "1      Bob   30   60000         HR   False\n",
            "2  Charlie   35   70000         IT    True\n",
            "3    David   28   55000    Finance   False\n"
          ]
        }
      ],
      "source": [
        "\n",
        "print(\"\\n=== ADD/REMOVE COLUMNS ===\")\n",
        "df['Experience'] = [2, 5, 8, 3]                     # Add new column\n",
        "df['Senior'] = df['Age'] > 30                       # Conditional column\n",
        "df = df.drop('Experience', axis=1)                  # Remove column\n",
        "print(\"After modifications:\\n\", df)"
      ]
    },
    {
      "cell_type": "markdown",
      "id": "747a0989",
      "metadata": {
        "id": "747a0989"
      },
      "source": [
        "# 4. HANDLING MISSING VALUES"
      ]
    },
    {
      "cell_type": "code",
      "execution_count": 5,
      "id": "74f038a2",
      "metadata": {
        "id": "74f038a2",
        "outputId": "4f4f80b3-c6ac-40e0-93ba-80b3c822a237",
        "colab": {
          "base_uri": "https://localhost:8080/"
        }
      },
      "outputs": [
        {
          "output_type": "stream",
          "name": "stdout",
          "text": [
            "\n",
            "=== MISSING VALUES ===\n",
            "With missing values:\n",
            "       Name   Age   Salary Department  Senior\n",
            "0    Alice  25.0  50000.0         IT   False\n",
            "1      Bob  30.0      NaN         HR   False\n",
            "2  Charlie   NaN  70000.0         IT    True\n",
            "3    David  28.0  55000.0    Finance   False\n",
            "Is null:\n",
            "     Name    Age  Salary  Department  Senior\n",
            "0  False  False   False       False   False\n",
            "1  False  False    True       False   False\n",
            "2  False   True   False       False   False\n",
            "3  False  False   False       False   False\n",
            "Fill with mean:\n",
            "       Name        Age        Salary Department  Senior\n",
            "0    Alice  25.000000  50000.000000         IT   False\n",
            "1      Bob  30.000000  58333.333333         HR   False\n",
            "2  Charlie  27.666667  70000.000000         IT    True\n",
            "3    David  28.000000  55000.000000    Finance   False\n"
          ]
        }
      ],
      "source": [
        "print(\"\\n=== MISSING VALUES ===\")\n",
        "df_with_na = df.copy()\n",
        "df_with_na.loc[1, 'Salary'] = np.nan\n",
        "df_with_na.loc[2, 'Age'] = np.nan\n",
        "\n",
        "print(\"With missing values:\\n\", df_with_na)\n",
        "print(\"Is null:\\n\", df_with_na.isnull())\n",
        "\n",
        "# Gunakan numeric_only=True agar hanya kolom numerik yang dihitung rata-ratanya\n",
        "filled_df = df_with_na.fillna(df_with_na.mean(numeric_only=True))\n",
        "print(\"Fill with mean:\\n\", filled_df)"
      ]
    },
    {
      "cell_type": "markdown",
      "id": "4c8169ad",
      "metadata": {
        "id": "4c8169ad"
      },
      "source": [
        "# 5. GROUPING & AGGREGATION"
      ]
    },
    {
      "cell_type": "code",
      "execution_count": 6,
      "id": "cbd1d610",
      "metadata": {
        "id": "cbd1d610",
        "outputId": "aba83dc9-3d1f-465b-a10b-b83bc49f36c8",
        "colab": {
          "base_uri": "https://localhost:8080/"
        }
      },
      "outputs": [
        {
          "output_type": "stream",
          "name": "stdout",
          "text": [
            "\n",
            "=== GROUPING & AGGREGATION ===\n",
            "Grouped means:\n",
            "              Age   Salary  Senior\n",
            "Department                       \n",
            "Finance     28.0  55000.0     0.0\n",
            "HR          30.0  60000.0     0.0\n",
            "IT          30.0  60000.0     0.5\n",
            "\n",
            "Grouped description (Salary):\n",
            "             count     mean           std      min      25%      50%      75%  \\\n",
            "Department                                                                     \n",
            "Finance       1.0  55000.0           NaN  55000.0  55000.0  55000.0  55000.0   \n",
            "HR            1.0  60000.0           NaN  60000.0  60000.0  60000.0  60000.0   \n",
            "IT            2.0  60000.0  14142.135624  50000.0  55000.0  60000.0  65000.0   \n",
            "\n",
            "                max  \n",
            "Department           \n",
            "Finance     55000.0  \n",
            "HR          60000.0  \n",
            "IT          70000.0  \n"
          ]
        }
      ],
      "source": [
        "print(\"\\n=== GROUPING & AGGREGATION ===\")\n",
        "\n",
        "# Group berdasarkan Department\n",
        "grouped = df.groupby('Department')\n",
        "\n",
        "# Hitung rata-rata hanya untuk kolom numerik\n",
        "print(\"Grouped means:\\n\", grouped.mean(numeric_only=True))\n",
        "\n",
        "# Statistik deskriptif untuk kolom Salary\n",
        "print(\"\\nGrouped description (Salary):\\n\", grouped['Salary'].describe())\n"
      ]
    },
    {
      "cell_type": "markdown",
      "id": "c0a193eb",
      "metadata": {
        "id": "c0a193eb"
      },
      "source": [
        "# 6. SORTING"
      ]
    },
    {
      "cell_type": "code",
      "execution_count": 7,
      "id": "cd4eb266",
      "metadata": {
        "id": "cd4eb266",
        "outputId": "4135e431-baf1-4805-ec53-af8b993493f2",
        "colab": {
          "base_uri": "https://localhost:8080/"
        }
      },
      "outputs": [
        {
          "output_type": "stream",
          "name": "stdout",
          "text": [
            "\n",
            "=== SORTING ===\n",
            "Sorted by Salary:\n",
            "       Name  Age  Salary Department  Senior\n",
            "2  Charlie   35   70000         IT    True\n",
            "1      Bob   30   60000         HR   False\n",
            "3    David   28   55000    Finance   False\n",
            "0    Alice   25   50000         IT   False\n"
          ]
        }
      ],
      "source": [
        "print(\"\\n=== SORTING ===\")\n",
        "df_sorted = df.sort_values('Salary', ascending=False)\n",
        "print(\"Sorted by Salary:\\n\", df_sorted)"
      ]
    },
    {
      "cell_type": "markdown",
      "id": "4aa190db",
      "metadata": {
        "id": "4aa190db"
      },
      "source": [
        "# 7. MERGING & JOINING"
      ]
    },
    {
      "cell_type": "code",
      "execution_count": 8,
      "id": "3c580c45",
      "metadata": {
        "id": "3c580c45",
        "outputId": "36cf02ed-b7cd-48da-afb7-7fb2ba02ee3c",
        "colab": {
          "base_uri": "https://localhost:8080/"
        }
      },
      "outputs": [
        {
          "output_type": "stream",
          "name": "stdout",
          "text": [
            "\n",
            "=== MERGING ===\n",
            "Merged DataFrame:\n",
            "       Name  Age  Salary Department  Senior   Bonus\n",
            "0    Alice   25   50000         IT   False  5000.0\n",
            "1      Bob   30   60000         HR   False  3000.0\n",
            "2  Charlie   35   70000         IT    True     NaN\n",
            "3    David   28   55000    Finance   False     NaN\n"
          ]
        }
      ],
      "source": [
        "print(\"\\n=== MERGING ===\")\n",
        "df2 = pd.DataFrame({\n",
        "    'Name': ['Alice', 'Bob', 'Eve'],\n",
        "    'Bonus': [5000, 3000, 4000]\n",
        "})\n",
        "merged = pd.merge(df, df2, on='Name', how='left')\n",
        "print(\"Merged DataFrame:\\n\", merged)"
      ]
    },
    {
      "cell_type": "markdown",
      "id": "a5ef532c",
      "metadata": {
        "id": "a5ef532c"
      },
      "source": [
        "# 8. PIVOT TABLES"
      ]
    },
    {
      "cell_type": "code",
      "execution_count": 9,
      "id": "8f3a0ee8",
      "metadata": {
        "id": "8f3a0ee8",
        "outputId": "dffe240c-5283-49ce-b261-1ce7f87a8379",
        "colab": {
          "base_uri": "https://localhost:8080/"
        }
      },
      "outputs": [
        {
          "output_type": "stream",
          "name": "stdout",
          "text": [
            "\n",
            "=== PIVOT TABLES ===\n",
            "Pivot table:\n",
            "                mean  count\n",
            "             Salary Salary\n",
            "Department                \n",
            "Finance     55000.0      1\n",
            "HR          60000.0      1\n",
            "IT          60000.0      2\n"
          ]
        }
      ],
      "source": [
        "print(\"\\n=== PIVOT TABLES ===\")\n",
        "pivot = df.pivot_table(values='Salary', index='Department', aggfunc=['mean', 'count'])\n",
        "print(\"Pivot table:\\n\", pivot)"
      ]
    },
    {
      "cell_type": "markdown",
      "id": "3d90015c",
      "metadata": {
        "id": "3d90015c"
      },
      "source": [
        "# 9. DATETIME OPERATIONS"
      ]
    },
    {
      "cell_type": "code",
      "execution_count": 10,
      "id": "0bffb8bc",
      "metadata": {
        "id": "0bffb8bc",
        "outputId": "69017dea-f7b6-4fb7-a595-db0d4dfaa577",
        "colab": {
          "base_uri": "https://localhost:8080/"
        }
      },
      "outputs": [
        {
          "output_type": "stream",
          "name": "stdout",
          "text": [
            "\n",
            "=== DATETIME OPERATIONS ===\n",
            "With dates:\n",
            "       Name  Age  Salary Department  Senior  Join_Date  Year\n",
            "0    Alice   25   50000         IT   False 2023-01-01  2023\n",
            "1      Bob   30   60000         HR   False 2023-01-02  2023\n",
            "2  Charlie   35   70000         IT    True 2023-01-03  2023\n",
            "3    David   28   55000    Finance   False 2023-01-04  2023\n"
          ]
        }
      ],
      "source": [
        "\n",
        "print(\"\\n=== DATETIME OPERATIONS ===\")\n",
        "dates = pd.date_range('20230101', periods=4)\n",
        "df_dates = df.copy()\n",
        "df_dates['Join_Date'] = dates\n",
        "df_dates['Year'] = df_dates['Join_Date'].dt.year\n",
        "print(\"With dates:\\n\", df_dates)"
      ]
    },
    {
      "cell_type": "markdown",
      "id": "918c0958",
      "metadata": {
        "id": "918c0958"
      },
      "source": [
        "# 10. STRING OPERATIONS"
      ]
    },
    {
      "cell_type": "code",
      "execution_count": 11,
      "id": "777149d5",
      "metadata": {
        "id": "777149d5",
        "outputId": "407e073e-4491-4996-b20a-a15bbbf303c6",
        "colab": {
          "base_uri": "https://localhost:8080/"
        }
      },
      "outputs": [
        {
          "output_type": "stream",
          "name": "stdout",
          "text": [
            "\n",
            "=== STRING OPERATIONS ===\n",
            "String operations:\n",
            "       Name Name_Upper  Name_Length\n",
            "0    Alice      ALICE            5\n",
            "1      Bob        BOB            3\n",
            "2  Charlie    CHARLIE            7\n",
            "3    David      DAVID            5\n"
          ]
        }
      ],
      "source": [
        "print(\"\\n=== STRING OPERATIONS ===\")\n",
        "df['Name_Upper'] = df['Name'].str.upper()\n",
        "df['Name_Length'] = df['Name'].str.len()\n",
        "print(\"String operations:\\n\", df[['Name', 'Name_Upper', 'Name_Length']])"
      ]
    },
    {
      "cell_type": "markdown",
      "id": "6bb8792f",
      "metadata": {
        "id": "6bb8792f"
      },
      "source": [
        "# 🏋️ LATIHAN 3: OPERASI PANDAS UNTUK DATA ANALYSIS\n",
        "### EXPLORATORY DATA ANALYSIS ###"
      ]
    },
    {
      "cell_type": "code",
      "execution_count": 12,
      "id": "78ac1c77",
      "metadata": {
        "id": "78ac1c77",
        "outputId": "9438fd6d-4e4f-43b3-d529-b327268b55b2",
        "colab": {
          "base_uri": "https://localhost:8080/"
        }
      },
      "outputs": [
        {
          "output_type": "stream",
          "name": "stdout",
          "text": [
            "✅ Pandas operations completed\n",
            "\n",
            "=== Total Revenue per Product ===\n",
            "   product_id       revenue\n",
            "7           8  32062.915807\n",
            "8           9  30812.566464\n",
            "6           7  30786.212454\n",
            "4           5  29894.628309\n",
            "5           6  29771.241361\n",
            "\n",
            "=== Top 5 Customers ===\n",
            "    customer_id      revenue\n",
            "37           38  5239.536260\n",
            "58           59  5185.221233\n",
            "88           89  4759.149270\n",
            "93           94  4690.528278\n",
            "14           15  4657.289888\n",
            "\n",
            "=== Daily Revenue (first 5 days) ===\n",
            "        date      revenue\n",
            "0 2023-01-01  5268.121555\n",
            "1 2023-01-02  4656.102661\n",
            "2 2023-01-03  3226.578585\n",
            "3 2023-01-04  2462.071219\n",
            "4 2023-01-05  3741.645829\n",
            "\n",
            "=== Detected Anomalies (if any) ===\n",
            "Empty DataFrame\n",
            "Columns: [date, product_id, quantity, price, customer_id, revenue]\n",
            "Index: []\n"
          ]
        }
      ],
      "source": [
        "import pandas as pd\n",
        "import numpy as np\n",
        "\n",
        "'''TODO: Analisis Dataset Retail'''\n",
        "# Create sample retail dataset\n",
        "np.random.seed(42)\n",
        "dates = pd.date_range('2023-01-01', '2023-03-31', freq='D')\n",
        "retail_data = pd.DataFrame({\n",
        "    'date': np.random.choice(dates, 1000),\n",
        "    'product_id': np.random.randint(1, 11, 1000),\n",
        "    'quantity': np.random.randint(1, 10, 1000),\n",
        "    'price': np.random.uniform(10, 100, 1000),\n",
        "    'customer_id': np.random.randint(1, 101, 1000)\n",
        "})\n",
        "retail_data['revenue'] = retail_data['quantity'] * retail_data['price']\n",
        "\n",
        "# ✅ TODO 1: Hitung total revenue per product\n",
        "revenue_per_product = (\n",
        "    retail_data.groupby('product_id')['revenue']\n",
        "    .sum()\n",
        "    .reset_index()\n",
        "    .sort_values(by='revenue', ascending=False)\n",
        ")\n",
        "\n",
        "# ✅ TODO 2: Temukan top 5 customers berdasarkan total spending\n",
        "top_customers = (\n",
        "    retail_data.groupby('customer_id')['revenue']\n",
        "    .sum()\n",
        "    .reset_index()\n",
        "    .sort_values(by='revenue', ascending=False)\n",
        "    .head(5)\n",
        ")\n",
        "\n",
        "# ✅ TODO 3: Analisis time series - revenue per hari\n",
        "daily_revenue = (\n",
        "    retail_data.groupby('date')['revenue']\n",
        "    .sum()\n",
        "    .reset_index()\n",
        "    .sort_values(by='date')\n",
        ")\n",
        "\n",
        "# ✅ TODO 4: Buat fungsi untuk detect anomalies dalam quantity\n",
        "def detect_quantity_anomalies(df, threshold=2):\n",
        "    # Hitung Z-score untuk kolom quantity\n",
        "    mean_q = df['quantity'].mean()\n",
        "    std_q = df['quantity'].std()\n",
        "    z_scores = (df['quantity'] - mean_q) / std_q\n",
        "\n",
        "    # Anomali jika |Z| > threshold\n",
        "    anomalies = df[np.abs(z_scores) > threshold]\n",
        "    return anomalies\n",
        "\n",
        "anomalies = detect_quantity_anomalies(retail_data)\n",
        "\n",
        "# ✅ Assertion tests\n",
        "assert len(revenue_per_product) <= 10, \"Should have max 10 products\"\n",
        "assert len(top_customers) == 5, \"Should have top 5 customers\"\n",
        "print(\"✅ Pandas operations completed\")\n",
        "\n",
        "# (Opsional) Tampilkan hasil untuk verifikasi\n",
        "print(\"\\n=== Total Revenue per Product ===\")\n",
        "print(revenue_per_product.head())\n",
        "\n",
        "print(\"\\n=== Top 5 Customers ===\")\n",
        "print(top_customers)\n",
        "\n",
        "print(\"\\n=== Daily Revenue (first 5 days) ===\")\n",
        "print(daily_revenue.head())\n",
        "\n",
        "print(\"\\n=== Detected Anomalies (if any) ===\")\n",
        "print(anomalies.head())\n"
      ]
    }
  ],
  "metadata": {
    "kernelspec": {
      "display_name": ".venv",
      "language": "python",
      "name": "python3"
    },
    "language_info": {
      "codemirror_mode": {
        "name": "ipython",
        "version": 3
      },
      "file_extension": ".py",
      "mimetype": "text/x-python",
      "name": "python",
      "nbconvert_exporter": "python",
      "pygments_lexer": "ipython3",
      "version": "3.11.9"
    },
    "colab": {
      "provenance": [],
      "include_colab_link": true
    }
  },
  "nbformat": 4,
  "nbformat_minor": 5
}