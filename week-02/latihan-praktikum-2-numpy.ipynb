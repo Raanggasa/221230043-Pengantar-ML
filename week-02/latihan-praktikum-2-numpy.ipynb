{
  "cells": [
    {
      "cell_type": "markdown",
      "metadata": {
        "id": "view-in-github",
        "colab_type": "text"
      },
      "source": [
        "<a href=\"https://colab.research.google.com/github/Raanggasa/221230043-Pengantar-ML/blob/main/week-02/latihan-praktikum-2-numpy.ipynb\" target=\"_parent\"><img src=\"https://colab.research.google.com/assets/colab-badge.svg\" alt=\"Open In Colab\"/></a>"
      ]
    },
    {
      "cell_type": "markdown",
      "id": "77f2e14d",
      "metadata": {
        "id": "77f2e14d"
      },
      "source": [
        "# Praktikum 2: Komputasi Numerik dengan NumPy Array\n",
        "\n",
        "<a href=\"https://colab.research.google.com/github/pakizhan-ump/ml-umpontianak/blob/main/Modules/Week-02/Praktikum-02/Praktikum_2_numpy.ipynb\" target=\"_parent\"><img src=\"https://colab.research.google.com/assets/colab-badge.svg\" alt=\"Open In Colab\"/></a>\n",
        "\n",
        "## 🎯 Tujuan Praktikum\n",
        "Mahasiswa mampu menggunakan library **NumPy** untuk membuat dan memanipulasi array multidimensi serta memahami keunggulannya dibandingkan List untuk komputasi numerik.\n",
        "\n",
        "## 📖 Dasar Teori\n",
        "**NumPy (Numerical Python)** adalah library fundamental untuk komputasi ilmiah di Python. Struktur data utamanya adalah **ndarray (n-dimensional array)**, yang dirancang khusus untuk operasi numerik yang efisien. Keunggulan utamanya meliputi:\n",
        "* **Homogeneous:** Semua elemen dalam sebuah array harus memiliki tipe data yang sama (misalnya, semua `float64` atau semua `int32`), yang memungkinkan penyimpanan memori yang lebih efisien.\n",
        "* **Ukuran Tetap:** Ukuran array ditentukan saat pembuatan, membuatnya lebih dapat diprediksi dalam hal alokasi memori.\n",
        "* **Efisiensi Memori & Kecepatan:** Operasi matematika pada NumPy array jauh lebih cepat karena dieksekusi oleh kode C yang terkompilasi, bukan melalui interpreter Python.\n",
        "* **Mendukung Operasi Vektorisasi:** Memungkinkan operasi matematika dilakukan pada seluruh elemen array secara bersamaan tanpa perlu menulis *loop* `for`, membuat kode lebih ringkas dan cepat.\n",
        "\n",
        "Dalam machine learning, data seperti gambar (matriks piksel), sinyal audio, atau fitur-fitur numerik hampir selalu direpresentasikan sebagai NumPy array."
      ]
    },
    {
      "cell_type": "code",
      "execution_count": null,
      "id": "6290131d",
      "metadata": {
        "id": "6290131d"
      },
      "outputs": [],
      "source": [
        "import numpy as np"
      ]
    },
    {
      "cell_type": "markdown",
      "id": "4fc7c7b4",
      "metadata": {
        "id": "4fc7c7b4"
      },
      "source": [
        "# 🔧 OPERASI FUNDAMENTAL NUMPY\n",
        "\n",
        "# 1. ARRAY CREATION & TYPES"
      ]
    },
    {
      "cell_type": "code",
      "execution_count": null,
      "id": "30646851",
      "metadata": {
        "id": "30646851",
        "outputId": "ce603fc0-9005-4630-bfb6-5004f69a1ad6",
        "colab": {
          "base_uri": "https://localhost:8080/"
        }
      },
      "outputs": [
        {
          "output_type": "stream",
          "name": "stdout",
          "text": [
            "=== ARRAY CREATION ===\n",
            "1D array shape: (5,)\n",
            "2D array shape: (2, 3)\n",
            "3D array shape: (2, 3, 4)\n"
          ]
        }
      ],
      "source": [
        "print(\"=== ARRAY CREATION ===\")\n",
        "arr1d = np.array([1, 2, 3, 4, 5])                    # 1D array\n",
        "arr2d = np.array([[1, 2, 3], [4, 5, 6]])            # 2D array\n",
        "arr3d = np.random.rand(2, 3, 4)                     # 3D random array\n",
        "\n",
        "print(\"1D array shape:\", arr1d.shape)\n",
        "print(\"2D array shape:\", arr2d.shape)\n",
        "print(\"3D array shape:\", arr3d.shape)"
      ]
    },
    {
      "cell_type": "markdown",
      "id": "b0e2f682",
      "metadata": {
        "id": "b0e2f682"
      },
      "source": [
        "# 2. DATA TYPES"
      ]
    },
    {
      "cell_type": "code",
      "execution_count": null,
      "id": "7efe2214",
      "metadata": {
        "id": "7efe2214",
        "outputId": "a13bc89c-3ac5-4cba-8496-7ffb89346cdd",
        "colab": {
          "base_uri": "https://localhost:8080/"
        }
      },
      "outputs": [
        {
          "output_type": "stream",
          "name": "stdout",
          "text": [
            "Data types:\n",
            "arr_int dtype: int32\n",
            "arr_float dtype: float64\n"
          ]
        }
      ],
      "source": [
        "arr_int = np.array([1, 2, 3], dtype=np.int32)\n",
        "arr_float = np.array([1.0, 2.0, 3.0], dtype=np.float64)\n",
        "arr_bool = np.array([True, False, True])\n",
        "\n",
        "print(\"Data types:\")\n",
        "print(\"arr_int dtype:\", arr_int.dtype)\n",
        "print(\"arr_float dtype:\", arr_float.dtype)"
      ]
    },
    {
      "cell_type": "markdown",
      "id": "b81b12e6",
      "metadata": {
        "id": "b81b12e6"
      },
      "source": [
        "# 3. ACCESS & SLICING"
      ]
    },
    {
      "cell_type": "code",
      "execution_count": null,
      "id": "60d386db",
      "metadata": {
        "id": "60d386db",
        "outputId": "aa22b3de-66bb-43d8-c4f1-a4ca9218c1e2",
        "colab": {
          "base_uri": "https://localhost:8080/"
        }
      },
      "outputs": [
        {
          "output_type": "stream",
          "name": "stdout",
          "text": [
            "\n",
            "=== ACCESS & SLICING ===\n",
            "Element [1,2]: 7\n",
            "Row 1: [5 6 7 8]\n",
            "Column 2: [ 3  7 11]\n",
            "Submatrix 2x2:\n",
            " [[2 3]\n",
            " [6 7]]\n",
            "Every other row:\n",
            " [[ 1  2  3  4]\n",
            " [ 9 10 11 12]]\n"
          ]
        }
      ],
      "source": [
        "matrix = np.array([[1, 2, 3, 4],\n",
        "                   [5, 6, 7, 8],\n",
        "                   [9, 10, 11, 12]])\n",
        "\n",
        "print(\"\\n=== ACCESS & SLICING ===\")\n",
        "print(\"Element [1,2]:\", matrix[1, 2])                # Single element\n",
        "print(\"Row 1:\", matrix[1, :])                        # Entire row\n",
        "print(\"Column 2:\", matrix[:, 2])                     # Entire column\n",
        "print(\"Submatrix 2x2:\\n\", matrix[0:2, 1:3])          # Submatrix\n",
        "print(\"Every other row:\\n\", matrix[::2, :])          # Step slicing"
      ]
    },
    {
      "cell_type": "markdown",
      "id": "6270202a",
      "metadata": {
        "id": "6270202a"
      },
      "source": [
        "# 4. RESHAPING"
      ]
    },
    {
      "cell_type": "code",
      "execution_count": null,
      "id": "4754402a",
      "metadata": {
        "id": "4754402a",
        "outputId": "dc639122-74dd-4b62-90d1-9849ecf99cd9",
        "colab": {
          "base_uri": "https://localhost:8080/"
        }
      },
      "outputs": [
        {
          "output_type": "stream",
          "name": "stdout",
          "text": [
            "\n",
            "=== RESHAPING ===\n",
            "Original shape: (12,)\n",
            "Reshaped 3x4:\n",
            " [[ 0  1  2  3]\n",
            " [ 4  5  6  7]\n",
            " [ 8  9 10 11]]\n",
            "Transposed 4x3:\n",
            " [[ 0  4  8]\n",
            " [ 1  5  9]\n",
            " [ 2  6 10]\n",
            " [ 3  7 11]]\n",
            "Flattened: [ 0  1  2  3  4  5  6  7  8  9 10 11]\n"
          ]
        }
      ],
      "source": [
        "print(\"\\n=== RESHAPING ===\")\n",
        "arr = np.arange(12)                                  # 0-11\n",
        "print(\"Original shape:\", arr.shape)\n",
        "reshaped = arr.reshape(3, 4)                        # Reshape to 3x4\n",
        "flattened = reshaped.flatten()                      # Back to 1D\n",
        "transposed = reshaped.T                             # Transpose\n",
        "\n",
        "print(\"Reshaped 3x4:\\n\", reshaped)\n",
        "print(\"Transposed 4x3:\\n\", transposed)\n",
        "print(\"Flattened:\", flattened)"
      ]
    },
    {
      "cell_type": "markdown",
      "id": "68a91f34",
      "metadata": {
        "id": "68a91f34"
      },
      "source": [
        "# 5. MATHEMATICAL OPERATIONS"
      ]
    },
    {
      "cell_type": "code",
      "execution_count": null,
      "id": "b5d8e2a0",
      "metadata": {
        "id": "b5d8e2a0",
        "outputId": "8bb81497-683e-45d8-9468-67f7af722d0e",
        "colab": {
          "base_uri": "https://localhost:8080/"
        }
      },
      "outputs": [
        {
          "output_type": "stream",
          "name": "stdout",
          "text": [
            "\n",
            "=== MATHEMATICAL OPERATIONS ===\n",
            "a + b = [5 7 9]\n",
            "a * b = [ 4 10 18]\n",
            "a ** 2 = [1 4 9]\n",
            "np.dot(a, b) = 32\n"
          ]
        }
      ],
      "source": [
        "print(\"\\n=== MATHEMATICAL OPERATIONS ===\")\n",
        "a = np.array([1, 2, 3])\n",
        "b = np.array([4, 5, 6])\n",
        "\n",
        "print(\"a + b =\", a + b)                             # Element-wise add\n",
        "print(\"a * b =\", a * b)                             # Element-wise multiply\n",
        "print(\"a ** 2 =\", a ** 2)                           # Power\n",
        "print(\"np.dot(a, b) =\", np.dot(a, b))               # Dot product"
      ]
    },
    {
      "cell_type": "markdown",
      "id": "1361c21b",
      "metadata": {
        "id": "1361c21b"
      },
      "source": [
        "# 6. AGGREGATION"
      ]
    },
    {
      "cell_type": "code",
      "execution_count": null,
      "id": "c4309086",
      "metadata": {
        "id": "c4309086",
        "outputId": "110800b3-da32-4c18-b691-ca0b2db6390f",
        "colab": {
          "base_uri": "https://localhost:8080/"
        }
      },
      "outputs": [
        {
          "output_type": "stream",
          "name": "stdout",
          "text": [
            "\n",
            "=== AGGREGATION ===\n",
            "Data:\n",
            " [[0.88684458 0.63278687 0.3976875  0.50186736]\n",
            " [0.34900332 0.38059814 0.54667966 0.37347592]\n",
            " [0.75261017 0.81399711 0.07506639 0.07833503]\n",
            " [0.7398228  0.92884137 0.69644962 0.68264788]\n",
            " [0.95918451 0.65683407 0.76157509 0.40694408]]\n",
            "Sum all: 11.621251464069106\n",
            "Mean all: 0.5810625732034553\n",
            "Std all: 0.24982499847266285\n",
            "Sum columns: [3.68746538 3.41305756 2.47745826 2.04327027]\n",
            "Mean rows: [0.60479658 0.41243926 0.43000217 0.76194042 0.69613444]\n"
          ]
        }
      ],
      "source": [
        "print(\"\\n=== AGGREGATION ===\")\n",
        "data = np.random.rand(5, 4)                         # 5x4 random data\n",
        "print(\"Data:\\n\", data)\n",
        "print(\"Sum all:\", np.sum(data))\n",
        "print(\"Mean all:\", np.mean(data))\n",
        "print(\"Std all:\", np.std(data))\n",
        "print(\"Sum columns:\", np.sum(data, axis=0))         # Along columns\n",
        "print(\"Mean rows:\", np.mean(data, axis=1))          # Along rows"
      ]
    },
    {
      "cell_type": "markdown",
      "id": "6e1e7f85",
      "metadata": {
        "id": "6e1e7f85"
      },
      "source": [
        "# 7. BROADCASTING"
      ]
    },
    {
      "cell_type": "code",
      "execution_count": null,
      "id": "dbee1465",
      "metadata": {
        "id": "dbee1465",
        "outputId": "419baa0b-1a8e-4b1a-8217-ec3e755109ab",
        "colab": {
          "base_uri": "https://localhost:8080/"
        }
      },
      "outputs": [
        {
          "output_type": "stream",
          "name": "stdout",
          "text": [
            "\n",
            "=== BROADCASTING ===\n",
            "Matrix + Vector:\n",
            " [[11 22 33]\n",
            " [14 25 36]]\n"
          ]
        }
      ],
      "source": [
        "print(\"\\n=== BROADCASTING ===\")\n",
        "matrix = np.array([[1, 2, 3], [4, 5, 6]])\n",
        "vector = np.array([10, 20, 30])\n",
        "\n",
        "result = matrix + vector                            # Broadcasting\n",
        "print(\"Matrix + Vector:\\n\", result)"
      ]
    },
    {
      "cell_type": "markdown",
      "id": "1695d8bb",
      "metadata": {
        "id": "1695d8bb"
      },
      "source": [
        "# 8. RANDOM OPERATIONS"
      ]
    },
    {
      "cell_type": "code",
      "execution_count": null,
      "id": "f09e1c8a",
      "metadata": {
        "id": "f09e1c8a",
        "outputId": "d80133f8-202a-4ab4-b01f-675f2806309a",
        "colab": {
          "base_uri": "https://localhost:8080/"
        }
      },
      "outputs": [
        {
          "output_type": "stream",
          "name": "stdout",
          "text": [
            "\n",
            "=== RANDOM OPERATIONS ===\n",
            "Uniform random:\n",
            " [[0.3821764  0.28391155 0.25153675]\n",
            " [0.88732617 0.79952887 0.83137395]\n",
            " [0.65643853 0.53268054 0.08025947]]\n",
            "Normal random:\n",
            " [[ 1.05638534  0.73688771  0.93687578]\n",
            " [ 1.50922663  0.95642179  0.07622652]\n",
            " [-0.57728237 -2.59298779 -0.03037168]]\n",
            "Random integers:\n",
            " [[44 26 36]\n",
            " [70 12  1]\n",
            " [34 58 66]]\n"
          ]
        }
      ],
      "source": [
        "print(\"\\n=== RANDOM OPERATIONS ===\")\n",
        "random_arr = np.random.rand(3, 3)                   # Uniform [0,1)\n",
        "normal_arr = np.random.randn(3, 3)                  # Normal distribution\n",
        "integers = np.random.randint(0, 100, (3, 3))        # Random integers\n",
        "\n",
        "print(\"Uniform random:\\n\", random_arr)\n",
        "print(\"Normal random:\\n\", normal_arr)\n",
        "print(\"Random integers:\\n\", integers)"
      ]
    },
    {
      "cell_type": "markdown",
      "id": "841e508d",
      "metadata": {
        "id": "841e508d"
      },
      "source": [
        "# 9. SPLITTING & JOINING"
      ]
    },
    {
      "cell_type": "code",
      "execution_count": null,
      "id": "8f070add",
      "metadata": {
        "id": "8f070add",
        "outputId": "5db41300-23e8-4199-8aa8-aa86a4e881a3",
        "colab": {
          "base_uri": "https://localhost:8080/"
        }
      },
      "outputs": [
        {
          "output_type": "stream",
          "name": "stdout",
          "text": [
            "\n",
            "=== SPLITTING & JOINING ===\n",
            "Original:\n",
            " [[ 0  1  2  3]\n",
            " [ 4  5  6  7]\n",
            " [ 8  9 10 11]]\n",
            "After split:\n",
            "Part 0:\n",
            "[[0 1 2 3]]\n",
            "Part 1:\n",
            "[[4 5 6 7]]\n",
            "Part 2:\n",
            "[[ 8  9 10 11]]\n",
            "After concatenation:\n",
            " [[1 2]\n",
            " [3 4]\n",
            " [5 6]]\n"
          ]
        }
      ],
      "source": [
        "print(\"\\n=== SPLITTING & JOINING ===\")\n",
        "arr = np.arange(12).reshape(3, 4)\n",
        "sub_arrays = np.split(arr, 3, axis=0)               # Split along rows\n",
        "print(\"Original:\\n\", arr)\n",
        "print(\"After split:\")\n",
        "for i, sub in enumerate(sub_arrays):\n",
        "    print(f\"Part {i}:\\n{sub}\")\n",
        "\n",
        "# Joining arrays\n",
        "arr1 = np.array([[1, 2], [3, 4]])\n",
        "arr2 = np.array([[5, 6]])\n",
        "joined = np.concatenate([arr1, arr2], axis=0)       # Vertical join\n",
        "print(\"After concatenation:\\n\", joined)"
      ]
    },
    {
      "cell_type": "markdown",
      "id": "8d4fc396",
      "metadata": {
        "id": "8d4fc396"
      },
      "source": [
        "# 10. CONDITIONAL OPERATIONS"
      ]
    },
    {
      "cell_type": "code",
      "execution_count": null,
      "id": "4f168da2",
      "metadata": {
        "id": "4f168da2",
        "outputId": "c379b885-acd4-4065-eef1-e847b26fa600",
        "colab": {
          "base_uri": "https://localhost:8080/"
        }
      },
      "outputs": [
        {
          "output_type": "stream",
          "name": "stdout",
          "text": [
            "\n",
            "=== CONDITIONAL OPERATIONS ===\n",
            "Data > 30: [45 50 65]\n",
            "Where > 30 else 0: [ 0  0  0 45 50 65]\n"
          ]
        }
      ],
      "source": [
        "print(\"\\n=== CONDITIONAL OPERATIONS ===\")\n",
        "data = np.array([10, 25, 30, 45, 50, 65])\n",
        "mask = data > 30                                    # Boolean mask\n",
        "filtered = data[mask]                               # Filter with mask\n",
        "print(\"Data > 30:\", filtered)\n",
        "\n",
        "# Where operation\n",
        "result = np.where(data > 30, data, 0)               # Replace conditionally\n",
        "print(\"Where > 30 else 0:\", result)"
      ]
    },
    {
      "cell_type": "markdown",
      "id": "be6c38bd",
      "metadata": {
        "id": "be6c38bd"
      },
      "source": [
        "# 🏋️ LATIHAN 2: OPERASI NUMPY UNTUK MACHINE LEARNING\n",
        "\n",
        "### DATA PREPROCESSING DENGAN NUMPY ###"
      ]
    },
    {
      "cell_type": "code",
      "execution_count": null,
      "id": "3991fe2e",
      "metadata": {
        "id": "3991fe2e",
        "outputId": "7f8cc492-87bf-4dd9-ad9e-990fe1ad5814",
        "colab": {
          "base_uri": "https://localhost:8080/"
        }
      },
      "outputs": [
        {
          "output_type": "stream",
          "name": "stdout",
          "text": [
            "✅ NumPy operations completed\n"
          ]
        }
      ],
      "source": [
        "'''TODO: Implementasi Preprocessing Pipeline'''\n",
        "# Dataset simulasi: 100 samples, 5 features\n",
        "np.random.seed(42)\n",
        "X = np.random.randn(100, 5) * 10 + 5  # Mean=5, Std=10\n",
        "\n",
        "# ✅ TODO 1: Normalisasi Z-score: (x - mean) / std\n",
        "def z_score_normalization(data):\n",
        "    mean = np.mean(data, axis=0)\n",
        "    std = np.std(data, axis=0)\n",
        "    return (data - mean) / std\n",
        "\n",
        "X_normalized = z_score_normalization(X)\n",
        "\n",
        "# ✅ TODO 2: Handle outliers - replace values beyond 3 std with boundaries\n",
        "def handle_outliers(data, std_threshold=3):\n",
        "    mean = np.mean(data, axis=0)\n",
        "    std = np.std(data, axis=0)\n",
        "    lower_bound = mean - std_threshold * std\n",
        "    upper_bound = mean + std_threshold * std\n",
        "\n",
        "    data_clipped = np.clip(data, lower_bound, upper_bound)\n",
        "    return data_clipped\n",
        "\n",
        "X_cleaned = handle_outliers(X_normalized)\n",
        "\n",
        "# ✅ TODO 3: One-hot encoding untuk label kategorikal\n",
        "def one_hot_encoding(labels):\n",
        "    n_classes = np.max(labels) + 1\n",
        "    one_hot = np.zeros((labels.shape[0], n_classes))\n",
        "    one_hot[np.arange(labels.shape[0]), labels] = 1\n",
        "    return one_hot\n",
        "\n",
        "labels = np.array([0, 1, 2, 0, 1, 2, 0])\n",
        "one_hot_labels = one_hot_encoding(labels)\n",
        "\n",
        "# ✅ TODO 4: Train-test split manual\n",
        "def train_test_split_numpy(X, y, test_size=0.2):\n",
        "    n_samples = X.shape[0]\n",
        "    indices = np.arange(n_samples)\n",
        "    np.random.shuffle(indices)\n",
        "\n",
        "    test_size = int(n_samples * test_size)\n",
        "    test_indices = indices[:test_size]\n",
        "    train_indices = indices[test_size:]\n",
        "\n",
        "    X_train, X_test = X[train_indices], X[test_indices]\n",
        "    y_train, y_test = y[train_indices], y[test_indices]\n",
        "\n",
        "    return X_train, X_test, y_train, y_test\n",
        "\n",
        "X_train, X_test, y_train, y_test = train_test_split_numpy(X, np.random.randint(0, 3, 100))\n",
        "\n",
        "# ✅ Assertion checks\n",
        "assert X_normalized.shape == X.shape, \"Shape should remain same\"\n",
        "assert np.allclose(X_normalized.mean(), 0, atol=1e-10), \"Mean should be ~0 after z-score\"\n",
        "assert np.allclose(X_normalized.std(), 1, atol=1e-10), \"Std should be ~1 after z-score\"\n",
        "print(\"✅ NumPy operations completed\")"
      ]
    }
  ],
  "metadata": {
    "kernelspec": {
      "display_name": "base",
      "language": "python",
      "name": "python3"
    },
    "language_info": {
      "codemirror_mode": {
        "name": "ipython",
        "version": 3
      },
      "file_extension": ".py",
      "mimetype": "text/x-python",
      "name": "python",
      "nbconvert_exporter": "python",
      "pygments_lexer": "ipython3",
      "version": "3.11.5"
    },
    "colab": {
      "provenance": [],
      "include_colab_link": true
    }
  },
  "nbformat": 4,
  "nbformat_minor": 5
}