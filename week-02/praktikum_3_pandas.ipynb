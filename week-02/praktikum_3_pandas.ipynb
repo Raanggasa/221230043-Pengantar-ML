{
  "cells": [
    {
      "cell_type": "markdown",
      "metadata": {
        "id": "view-in-github",
        "colab_type": "text"
      },
      "source": [
        "<a href=\"https://colab.research.google.com/github/Raanggasa/221230043-Pengantar-ML/blob/main/week-02/praktikum_3_pandas.ipynb\" target=\"_parent\"><img src=\"https://colab.research.google.com/assets/colab-badge.svg\" alt=\"Open In Colab\"/></a>"
      ]
    },
    {
      "cell_type": "markdown",
      "id": "33624715",
      "metadata": {
        "id": "33624715"
      },
      "source": [
        "# Praktikum 3: Manipulasi Data Tabular dengan Pandas\n",
        "\n",
        "<a href=\"https://colab.research.google.com/github/pakizhan-ump/ml-umpontianak/blob/main/Modules/Week-02/Praktikum-02/Praktikum_3_pandas.ipynb\" target=\"_parent\"><img src=\"https://colab.research.google.com/assets/colab-badge.svg\" alt=\"Open In Colab\"/></a>\n",
        "\n",
        "## 🎯 Tujuan Praktikum\n",
        "Mahasiswa mampu menggunakan library **Pandas** untuk memuat, membersihkan, memanipulasi, dan menganalisis data dalam bentuk tabel (DataFrame).\n",
        "\n",
        "## 📖 Dasar Teori\n",
        "**Pandas** adalah library yang dibangun di atas NumPy, dirancang khusus untuk analisis dan manipulasi data terstruktur atau tabular. Dua struktur data utamanya adalah:\n",
        "* **Series:** Sebuah array satu dimensi yang memiliki label (indeks). Ini bisa dianggap sebagai satu kolom dalam sebuah tabel.\n",
        "* **DataFrame:** Struktur data dua dimensi seperti tabel pada spreadsheet atau database SQL. DataFrame terdiri dari baris dan kolom, di mana setiap kolomnya adalah sebuah Pandas Series.\n",
        "\n",
        "Pandas sangat esensial untuk tahap *data cleaning*, *preprocessing*, dan *exploratory data analysis (EDA)* dalam alur kerja machine learning. Ia menyediakan fungsi-fungsi tingkat tinggi untuk membaca file (CSV, Excel), menangani data yang hilang (*missing values*), melakukan pengelompokan (*grouping*), dan seleksi data yang kompleks dengan mudah.\n"
      ]
    },
    {
      "cell_type": "markdown",
      "id": "8e0eba88",
      "metadata": {
        "id": "8e0eba88"
      },
      "source": [
        "# 🔧 OPERASI FUNDAMENTAL PANDAS"
      ]
    },
    {
      "cell_type": "code",
      "execution_count": 19,
      "id": "d5da1e05",
      "metadata": {
        "id": "d5da1e05"
      },
      "outputs": [],
      "source": [
        "import pandas as pd\n",
        "import numpy as np"
      ]
    },
    {
      "cell_type": "markdown",
      "id": "9fd1ba99",
      "metadata": {
        "id": "9fd1ba99"
      },
      "source": [
        "# 1. DATAFRAME CREATION"
      ]
    },
    {
      "cell_type": "code",
      "execution_count": 20,
      "id": "56ca9162",
      "metadata": {
        "id": "56ca9162",
        "outputId": "7dd8b965-65a9-42e0-b005-fc552665bd08",
        "colab": {
          "base_uri": "https://localhost:8080/"
        }
      },
      "outputs": [
        {
          "output_type": "stream",
          "name": "stdout",
          "text": [
            "=== DATAFRAME CREATION ===\n",
            "DataFrame:\n",
            "       Name  Age  Salary Department\n",
            "0    Alice   25   50000         IT\n",
            "1      Bob   30   60000         HR\n",
            "2  Charlie   35   70000         IT\n",
            "3    David   28   55000    Finance\n"
          ]
        }
      ],
      "source": [
        "print(\"=== DATAFRAME CREATION ===\")\n",
        "# From dictionary\n",
        "data = {\n",
        "    'Name': ['Alice', 'Bob', 'Charlie', 'David'],\n",
        "    'Age': [25, 30, 35, 28],\n",
        "    'Salary': [50000, 60000, 70000, 55000],\n",
        "    'Department': ['IT', 'HR', 'IT', 'Finance']\n",
        "}\n",
        "df = pd.DataFrame(data)\n",
        "print(\"DataFrame:\\n\", df)"
      ]
    },
    {
      "cell_type": "markdown",
      "id": "c1f60d0c",
      "metadata": {
        "id": "c1f60d0c"
      },
      "source": [
        "# 2. ACCESS & INDEXING"
      ]
    },
    {
      "cell_type": "code",
      "execution_count": 21,
      "id": "2945f028",
      "metadata": {
        "id": "2945f028",
        "outputId": "dc78c7ff-88d2-48e6-f57a-55b44dbbff77",
        "colab": {
          "base_uri": "https://localhost:8080/"
        }
      },
      "outputs": [
        {
          "output_type": "stream",
          "name": "stdout",
          "text": [
            "\n",
            "=== ACCESS & INDEXING ===\n",
            "Column 'Name': ['Alice', 'Bob', 'Charlie', 'David']\n",
            "First row:\n",
            " Name          Alice\n",
            "Age              25\n",
            "Salary        50000\n",
            "Department       IT\n",
            "Name: 0, dtype: object\n",
            "Rows 1-2:\n",
            "       Name  Age  Salary Department\n",
            "1      Bob   30   60000         HR\n",
            "2  Charlie   35   70000         IT\n",
            "Filter Age > 28:\n",
            "       Name  Age  Salary Department\n",
            "1      Bob   30   60000         HR\n",
            "2  Charlie   35   70000         IT\n"
          ]
        }
      ],
      "source": [
        "print(\"\\n=== ACCESS & INDEXING ===\")\n",
        "print(\"Column 'Name':\", df['Name'].tolist())\n",
        "print(\"First row:\\n\", df.iloc[0])                    # By integer position\n",
        "print(\"Rows 1-2:\\n\", df.iloc[1:3])\n",
        "print(\"Filter Age > 28:\\n\", df[df['Age'] > 28])"
      ]
    },
    {
      "cell_type": "markdown",
      "id": "93e5c93d",
      "metadata": {
        "id": "93e5c93d"
      },
      "source": [
        "# 3. ADD/REMOVE COLUMNS"
      ]
    },
    {
      "cell_type": "code",
      "execution_count": 22,
      "id": "8694ccd8",
      "metadata": {
        "id": "8694ccd8",
        "outputId": "2596dbf2-89ec-4db5-f7fd-47a6f58da1ac",
        "colab": {
          "base_uri": "https://localhost:8080/"
        }
      },
      "outputs": [
        {
          "output_type": "stream",
          "name": "stdout",
          "text": [
            "\n",
            "=== ADD/REMOVE COLUMNS ===\n",
            "After modifications:\n",
            "       Name  Age  Salary Department  Senior\n",
            "0    Alice   25   50000         IT   False\n",
            "1      Bob   30   60000         HR   False\n",
            "2  Charlie   35   70000         IT    True\n",
            "3    David   28   55000    Finance   False\n"
          ]
        }
      ],
      "source": [
        "\n",
        "print(\"\\n=== ADD/REMOVE COLUMNS ===\")\n",
        "df['Experience'] = [2, 5, 8, 3]                     # Add new column\n",
        "df['Senior'] = df['Age'] > 30                       # Conditional column\n",
        "df = df.drop('Experience', axis=1)                  # Remove column\n",
        "print(\"After modifications:\\n\", df)"
      ]
    },
    {
      "cell_type": "markdown",
      "id": "747a0989",
      "metadata": {
        "id": "747a0989"
      },
      "source": [
        "# 4. HANDLING MISSING VALUES"
      ]
    },
    {
      "cell_type": "code",
      "execution_count": 23,
      "id": "74f038a2",
      "metadata": {
        "id": "74f038a2",
        "outputId": "40277502-a201-4a78-9b45-cfe53658c8b2",
        "colab": {
          "base_uri": "https://localhost:8080/"
        }
      },
      "outputs": [
        {
          "output_type": "stream",
          "name": "stdout",
          "text": [
            "\n",
            "=== MISSING VALUES ===\n",
            "With missing values:\n",
            "       Name   Age   Salary Department  Senior\n",
            "0    Alice  25.0  50000.0         IT   False\n",
            "1      Bob  30.0      NaN         HR   False\n",
            "2  Charlie   NaN  70000.0         IT    True\n",
            "3    David  28.0  55000.0    Finance   False\n",
            "\n",
            "Is null:\n",
            "     Name    Age  Salary  Department  Senior\n",
            "0  False  False   False       False   False\n",
            "1  False  False    True       False   False\n",
            "2  False   True   False       False   False\n",
            "3  False  False   False       False   False\n",
            "\n",
            "Fill with mean:\n",
            "       Name        Age        Salary Department  Senior\n",
            "0    Alice  25.000000  50000.000000         IT   False\n",
            "1      Bob  30.000000  58333.333333         HR   False\n",
            "2  Charlie  27.666667  70000.000000         IT    True\n",
            "3    David  28.000000  55000.000000    Finance   False\n"
          ]
        }
      ],
      "source": [
        "print(\"\\n=== MISSING VALUES ===\")\n",
        "df_with_na = df.copy()\n",
        "df_with_na.loc[1, 'Salary'] = np.nan\n",
        "df_with_na.loc[2, 'Age'] = np.nan\n",
        "\n",
        "print(\"With missing values:\\n\", df_with_na)\n",
        "print(\"\\nIs null:\\n\", df_with_na.isnull())\n",
        "\n",
        "# Perbaikan isi NaN dengan mean hanya untuk kolom numerik\n",
        "print(\"\\nFill with mean:\\n\", df_with_na.fillna(df_with_na.mean(numeric_only=True)))"
      ]
    },
    {
      "cell_type": "markdown",
      "id": "4c8169ad",
      "metadata": {
        "id": "4c8169ad"
      },
      "source": [
        "# 5. GROUPING & AGGREGATION"
      ]
    },
    {
      "cell_type": "code",
      "execution_count": 24,
      "id": "cbd1d610",
      "metadata": {
        "id": "cbd1d610",
        "outputId": "51f71121-ee27-4f12-e4be-23883723e6b5",
        "colab": {
          "base_uri": "https://localhost:8080/"
        }
      },
      "outputs": [
        {
          "output_type": "stream",
          "name": "stdout",
          "text": [
            "\n",
            "=== GROUPING & AGGREGATION ===\n",
            "Grouped means:\n",
            "              Age   Salary  Senior\n",
            "Department                       \n",
            "Finance     28.0  55000.0     0.0\n",
            "HR          30.0  60000.0     0.0\n",
            "IT          30.0  60000.0     0.5\n",
            "\n",
            "Grouped description:\n",
            "             count     mean           std      min      25%      50%      75%  \\\n",
            "Department                                                                     \n",
            "Finance       1.0  55000.0           NaN  55000.0  55000.0  55000.0  55000.0   \n",
            "HR            1.0  60000.0           NaN  60000.0  60000.0  60000.0  60000.0   \n",
            "IT            2.0  60000.0  14142.135624  50000.0  55000.0  60000.0  65000.0   \n",
            "\n",
            "                max  \n",
            "Department           \n",
            "Finance     55000.0  \n",
            "HR          60000.0  \n",
            "IT          70000.0  \n"
          ]
        }
      ],
      "source": [
        "print(\"\\n=== GROUPING & AGGREGATION ===\")\n",
        "\n",
        "# Group by kolom Department\n",
        "grouped = df.groupby('Department')\n",
        "# Hitung mean hanya untuk kolom numerik\n",
        "print(\"Grouped means:\\n\", grouped.mean(numeric_only=True))\n",
        "# Deskripsi statistik hanya untuk kolom Salary\n",
        "print(\"\\nGrouped description:\\n\", grouped['Salary'].describe())\n"
      ]
    },
    {
      "cell_type": "markdown",
      "id": "c0a193eb",
      "metadata": {
        "id": "c0a193eb"
      },
      "source": [
        "# 6. SORTING"
      ]
    },
    {
      "cell_type": "code",
      "execution_count": 25,
      "id": "cd4eb266",
      "metadata": {
        "id": "cd4eb266",
        "outputId": "0541b288-fca0-417a-cf35-9a5b4fd5c7ec",
        "colab": {
          "base_uri": "https://localhost:8080/"
        }
      },
      "outputs": [
        {
          "output_type": "stream",
          "name": "stdout",
          "text": [
            "\n",
            "=== SORTING ===\n",
            "Sorted by Salary:\n",
            "       Name  Age  Salary Department  Senior\n",
            "2  Charlie   35   70000         IT    True\n",
            "1      Bob   30   60000         HR   False\n",
            "3    David   28   55000    Finance   False\n",
            "0    Alice   25   50000         IT   False\n"
          ]
        }
      ],
      "source": [
        "print(\"\\n=== SORTING ===\")\n",
        "df_sorted = df.sort_values('Salary', ascending=False)\n",
        "print(\"Sorted by Salary:\\n\", df_sorted)"
      ]
    },
    {
      "cell_type": "markdown",
      "id": "4aa190db",
      "metadata": {
        "id": "4aa190db"
      },
      "source": [
        "# 7. MERGING & JOINING"
      ]
    },
    {
      "cell_type": "code",
      "execution_count": 26,
      "id": "3c580c45",
      "metadata": {
        "id": "3c580c45",
        "outputId": "94065aa8-104b-4afb-cc4d-fec93e6d5ff0",
        "colab": {
          "base_uri": "https://localhost:8080/"
        }
      },
      "outputs": [
        {
          "output_type": "stream",
          "name": "stdout",
          "text": [
            "\n",
            "=== MERGING ===\n",
            "Merged DataFrame:\n",
            "       Name  Age  Salary Department  Senior   Bonus\n",
            "0    Alice   25   50000         IT   False  5000.0\n",
            "1      Bob   30   60000         HR   False  3000.0\n",
            "2  Charlie   35   70000         IT    True     NaN\n",
            "3    David   28   55000    Finance   False     NaN\n"
          ]
        }
      ],
      "source": [
        "print(\"\\n=== MERGING ===\")\n",
        "df2 = pd.DataFrame({\n",
        "    'Name': ['Alice', 'Bob', 'Eve'],\n",
        "    'Bonus': [5000, 3000, 4000]\n",
        "})\n",
        "merged = pd.merge(df, df2, on='Name', how='left')\n",
        "print(\"Merged DataFrame:\\n\", merged)"
      ]
    },
    {
      "cell_type": "markdown",
      "id": "a5ef532c",
      "metadata": {
        "id": "a5ef532c"
      },
      "source": [
        "# 8. PIVOT TABLES"
      ]
    },
    {
      "cell_type": "code",
      "execution_count": 27,
      "id": "8f3a0ee8",
      "metadata": {
        "id": "8f3a0ee8",
        "outputId": "bde7e3ff-87c0-4ac5-b2b4-5e68b92fa660",
        "colab": {
          "base_uri": "https://localhost:8080/"
        }
      },
      "outputs": [
        {
          "output_type": "stream",
          "name": "stdout",
          "text": [
            "\n",
            "=== PIVOT TABLES ===\n",
            "Pivot table:\n",
            "                mean  count\n",
            "             Salary Salary\n",
            "Department                \n",
            "Finance     55000.0      1\n",
            "HR          60000.0      1\n",
            "IT          60000.0      2\n"
          ]
        }
      ],
      "source": [
        "print(\"\\n=== PIVOT TABLES ===\")\n",
        "pivot = df.pivot_table(values='Salary', index='Department', aggfunc=['mean', 'count'])\n",
        "print(\"Pivot table:\\n\", pivot)"
      ]
    },
    {
      "cell_type": "markdown",
      "id": "3d90015c",
      "metadata": {
        "id": "3d90015c"
      },
      "source": [
        "# 9. DATETIME OPERATIONS"
      ]
    },
    {
      "cell_type": "code",
      "execution_count": 28,
      "id": "0bffb8bc",
      "metadata": {
        "id": "0bffb8bc",
        "outputId": "08b31e87-82e7-4767-ef31-8e97ac159d8c",
        "colab": {
          "base_uri": "https://localhost:8080/"
        }
      },
      "outputs": [
        {
          "output_type": "stream",
          "name": "stdout",
          "text": [
            "\n",
            "=== DATETIME OPERATIONS ===\n",
            "With dates:\n",
            "       Name  Age  Salary Department  Senior  Join_Date  Year\n",
            "0    Alice   25   50000         IT   False 2023-01-01  2023\n",
            "1      Bob   30   60000         HR   False 2023-01-02  2023\n",
            "2  Charlie   35   70000         IT    True 2023-01-03  2023\n",
            "3    David   28   55000    Finance   False 2023-01-04  2023\n"
          ]
        }
      ],
      "source": [
        "\n",
        "print(\"\\n=== DATETIME OPERATIONS ===\")\n",
        "dates = pd.date_range('20230101', periods=4)\n",
        "df_dates = df.copy()\n",
        "df_dates['Join_Date'] = dates\n",
        "df_dates['Year'] = df_dates['Join_Date'].dt.year\n",
        "print(\"With dates:\\n\", df_dates)"
      ]
    },
    {
      "cell_type": "markdown",
      "id": "918c0958",
      "metadata": {
        "id": "918c0958"
      },
      "source": [
        "# 10. STRING OPERATIONS"
      ]
    },
    {
      "cell_type": "code",
      "execution_count": 29,
      "id": "777149d5",
      "metadata": {
        "id": "777149d5",
        "outputId": "3ed31c96-b8a4-4d35-f560-18b8866ba2b1",
        "colab": {
          "base_uri": "https://localhost:8080/"
        }
      },
      "outputs": [
        {
          "output_type": "stream",
          "name": "stdout",
          "text": [
            "\n",
            "=== STRING OPERATIONS ===\n",
            "String operations:\n",
            "       Name Name_Upper  Name_Length\n",
            "0    Alice      ALICE            5\n",
            "1      Bob        BOB            3\n",
            "2  Charlie    CHARLIE            7\n",
            "3    David      DAVID            5\n"
          ]
        }
      ],
      "source": [
        "print(\"\\n=== STRING OPERATIONS ===\")\n",
        "df['Name_Upper'] = df['Name'].str.upper()\n",
        "df['Name_Length'] = df['Name'].str.len()\n",
        "print(\"String operations:\\n\", df[['Name', 'Name_Upper', 'Name_Length']])"
      ]
    },
    {
      "cell_type": "markdown",
      "id": "6bb8792f",
      "metadata": {
        "id": "6bb8792f"
      },
      "source": [
        "# 🏋️ LATIHAN 3: OPERASI PANDAS UNTUK DATA ANALYSIS\n",
        "### EXPLORATORY DATA ANALYSIS ###"
      ]
    },
    {
      "cell_type": "code",
      "execution_count": 30,
      "id": "78ac1c77",
      "metadata": {
        "id": "78ac1c77",
        "outputId": "e888ebf5-a940-4d24-90b5-79ed7649d87e",
        "colab": {
          "base_uri": "https://localhost:8080/"
        }
      },
      "outputs": [
        {
          "output_type": "stream",
          "name": "stdout",
          "text": [
            "✅ Pandas operations completed\n"
          ]
        }
      ],
      "source": [
        "'''TODO: Analisis Dataset Retail'''\n",
        "# Create sample retail dataset\n",
        "np.random.seed(42)\n",
        "dates = pd.date_range('2023-01-01', '2023-03-31', freq='D')\n",
        "retail_data = pd.DataFrame({\n",
        "    'date': np.random.choice(dates, 1000),\n",
        "    'product_id': np.random.randint(1, 11, 1000),\n",
        "    'quantity': np.random.randint(1, 10, 1000),\n",
        "    'price': np.random.uniform(10, 100, 1000),\n",
        "    'customer_id': np.random.randint(1, 101, 1000)\n",
        "})\n",
        "retail_data['revenue'] = retail_data['quantity'] * retail_data['price']\n",
        "\n",
        "# TODO 1: Hitung total revenue per product\n",
        "revenue_per_product = retail_data.groupby('product_id')['revenue'].sum().reset_index()\n",
        "\n",
        "# TODO 2: Temukan top 5 customers berdasarkan total spending\n",
        "top_customers = (\n",
        "    retail_data.groupby('customer_id')['revenue']\n",
        "    .sum()\n",
        "    .sort_values(ascending=False)\n",
        "    .head(5)\n",
        "    .reset_index()\n",
        ")\n",
        "\n",
        "# TODO 3: Analisis time series - revenue per hari\n",
        "daily_revenue = (\n",
        "    retail_data.groupby('date')['revenue']\n",
        "    .sum()\n",
        "    .reset_index()\n",
        "    .sort_values('date')\n",
        ")\n",
        "\n",
        "# TODO 4: Buat fungsi untuk detect anomalies dalam quantity\n",
        "def detect_quantity_anomalies(df, threshold=2):\n",
        "    mean_q = df['quantity'].mean()\n",
        "    std_q = df['quantity'].std()\n",
        "    z_score = (df['quantity'] - mean_q) / std_q\n",
        "    return df[np.abs(z_score) > threshold]\n",
        "\n",
        "anomalies = detect_quantity_anomalies(retail_data)\n",
        "\n",
        "assert len(revenue_per_product) <= 10, \"Should have max 10 products\"\n",
        "assert len(top_customers) == 5, \"Should have top 5 customers\"\n",
        "print(\"✅ Pandas operations completed\")"
      ]
    }
  ],
  "metadata": {
    "kernelspec": {
      "display_name": ".venv",
      "language": "python",
      "name": "python3"
    },
    "language_info": {
      "codemirror_mode": {
        "name": "ipython",
        "version": 3
      },
      "file_extension": ".py",
      "mimetype": "text/x-python",
      "name": "python",
      "nbconvert_exporter": "python",
      "pygments_lexer": "ipython3",
      "version": "3.11.9"
    },
    "colab": {
      "provenance": [],
      "include_colab_link": true
    }
  },
  "nbformat": 4,
  "nbformat_minor": 5
}